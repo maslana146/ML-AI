{
 "cells": [
  {
   "cell_type": "markdown",
   "metadata": {},
   "source": [
    "## Vizaulization TODO:\n",
    "* come up with idea on who to visualize categorical attributes. Should discretization be done beforehand?\n",
    "* find out who can one obtain useful knowledge from date attributes, how to visualize it?\n",
    "* analyze and iterpret numerical attributes\n"
   ]
  },
  {
   "cell_type": "code",
   "execution_count": 1,
   "metadata": {
    "ExecuteTime": {
     "end_time": "2021-04-13T16:06:30.008695Z",
     "start_time": "2021-04-13T16:06:28.939556Z"
    }
   },
   "outputs": [],
   "source": [
    "import pandas as pd\n",
    "import pandas_profiling as pdp\n",
    "import os\n",
    "import numpy as np\n",
    "import re\n",
    "import plotly.express as px\n",
    "import plotly\n",
    "import plotly.graph_objects as go\n",
    "from plotly.subplots import make_subplots"
   ]
  },
  {
   "cell_type": "code",
   "execution_count": 2,
   "metadata": {
    "ExecuteTime": {
     "end_time": "2021-04-13T16:06:30.324353Z",
     "start_time": "2021-04-13T16:06:30.009906Z"
    }
   },
   "outputs": [],
   "source": [
    "df =pd.read_csv('data/ltfs3_train.csv')"
   ]
  },
  {
   "cell_type": "code",
   "execution_count": 3,
   "metadata": {
    "ExecuteTime": {
     "end_time": "2021-04-13T16:06:30.374250Z",
     "start_time": "2021-04-13T16:06:30.325620Z"
    }
   },
   "outputs": [
    {
     "name": "stdout",
     "output_type": "stream",
     "text": [
      "<class 'pandas.core.frame.DataFrame'>\n",
      "RangeIndex: 128655 entries, 0 to 128654\n",
      "Data columns (total 26 columns):\n",
      "ID                 128655 non-null int64\n",
      "Frequency          128655 non-null object\n",
      "InstlmentMode      128655 non-null object\n",
      "LoanStatus         128655 non-null object\n",
      "PaymentMode        128655 non-null object\n",
      "BranchID           128655 non-null int64\n",
      "Area               117002 non-null object\n",
      "Tenure             128655 non-null int64\n",
      "AssetCost          128655 non-null int64\n",
      "AmountFinance      128655 non-null float64\n",
      "DisbursalAmount    128655 non-null float64\n",
      "EMI                128655 non-null float64\n",
      "DisbursalDate      128655 non-null object\n",
      "MaturityDAte       128654 non-null object\n",
      "AuthDate           128655 non-null object\n",
      "AssetID            128655 non-null int64\n",
      "ManufacturerID     128655 non-null int64\n",
      "SupplierID         128655 non-null int64\n",
      "LTV                128655 non-null float64\n",
      "SEX                128596 non-null object\n",
      "AGE                128596 non-null float64\n",
      "MonthlyIncome      128421 non-null float64\n",
      "City               117399 non-null object\n",
      "State              128655 non-null object\n",
      "ZiPCODE            128283 non-null float64\n",
      "Top-up Month       128655 non-null object\n",
      "dtypes: float64(7), int64(7), object(12)\n",
      "memory usage: 25.5+ MB\n"
     ]
    }
   ],
   "source": [
    "df.info()"
   ]
  },
  {
   "cell_type": "code",
   "execution_count": 4,
   "metadata": {
    "ExecuteTime": {
     "end_time": "2021-04-13T16:06:30.378774Z",
     "start_time": "2021-04-13T16:06:30.375609Z"
    }
   },
   "outputs": [
    {
     "name": "stdout",
     "output_type": "stream",
     "text": [
      "['PaymentMode', 'SEX', 'LoanStatus', 'Frequency', 'Area', 'City', 'InstlmentMode', 'State']\n"
     ]
    }
   ],
   "source": [
    "cols = df.columns\n",
    "num_cols = df._get_numeric_data().columns\n",
    "categorical_cols = list(set(cols) - set(num_cols))\n",
    "categorical_cols = [i for i in categorical_cols if re.match('^(?!(TOP-UP MONTH|.*DATE)$).*$',i.upper())]\n",
    "print(categorical_cols)"
   ]
  },
  {
   "cell_type": "code",
   "execution_count": 10,
   "metadata": {
    "ExecuteTime": {
     "end_time": "2021-04-13T16:20:15.565041Z",
     "start_time": "2021-04-13T16:20:15.559268Z"
    }
   },
   "outputs": [],
   "source": [
    "def draw_plots_categorical(grouped_by,target,df):\n",
    "    temp = pd.DataFrame()\n",
    "    unique = pd.unique(df[grouped_by].dropna())\n",
    "    for attr in unique:\n",
    "        temp[attr] = df[df[grouped_by]==attr][target].value_counts()\n",
    "    columns = dict(zip(list(range(len(temp.columns))),temp.columns))\n",
    "    temp = temp.rename(columns=columns)\n",
    "    return get_plots(temp,grouped_by,target)\n"
   ]
  },
  {
   "cell_type": "code",
   "execution_count": 11,
   "metadata": {
    "ExecuteTime": {
     "end_time": "2021-04-13T16:20:15.918735Z",
     "start_time": "2021-04-13T16:20:15.909018Z"
    }
   },
   "outputs": [],
   "source": [
    "def get_plots_categorical(temp,attribute,target):\n",
    "    fig = make_subplots(rows=2, cols=2, column_widths=[0.8, 0.3],\n",
    "                    specs=[[ {\"colspan\": 2},{}],\n",
    "                        [{\"type\": \"xy\"}, {\"type\": \"pie\"}]])\n",
    "    for counter,i in enumerate(temp.index):\n",
    "        fig.add_trace(go.Bar(y=temp[temp.index==i].values[0],x=temp.columns,name=i,\n",
    "                         legendgroup='group1',marker_color=px.colors.qualitative.Prism[counter]), row=1, col=1)\n",
    "    pie_temp = temp.sum()\n",
    "    temp = temp.T\n",
    "    for counter,i in enumerate(temp.index):\n",
    "        fig.add_trace(go.Bar(y=temp[temp.index==i].values[0],x=temp.columns,name=i,\n",
    "                    legendgroup='group1',showlegend=False,marker_color=px.colors.qualitative.Prism[counter%2]), row=2, col=1)\n",
    "    fig.add_trace(go.Pie(labels=pie_temp.index,values=pie_temp,legendgroup='group2',marker=dict(colors= px.colors.qualitative.Prism)),row =2,col=2)\n",
    "    fig.layout.update(barmode='group',\n",
    "        height=800, legend=dict(tracegroupgap = 250),title=f'{attribute} vizualization based on {target}')\n",
    "    fig.show()"
   ]
  },
  {
   "cell_type": "code",
   "execution_count": 12,
   "metadata": {
    "ExecuteTime": {
     "end_time": "2021-04-13T16:20:20.958171Z",
     "start_time": "2021-04-13T16:20:20.858834Z"
    },
    "scrolled": false
   },
   "outputs": [
    {
     "data": {
      "application/vnd.plotly.v1+json": {
       "config": {
        "plotlyServerURL": "https://plot.ly"
       },
       "data": [
        {
         "legendgroup": "group1",
         "marker": {
          "color": "rgb(95, 70, 144)"
         },
         "name": "No Top-up Service",
         "type": "bar",
         "x": [
          "Closed",
          "Active"
         ],
         "xaxis": "x",
         "y": [
          81214,
          25463
         ],
         "yaxis": "y"
        },
        {
         "legendgroup": "group1",
         "marker": {
          "color": "rgb(29, 105, 150)"
         },
         "name": " > 48 Months",
         "type": "bar",
         "x": [
          "Closed",
          "Active"
         ],
         "xaxis": "x",
         "y": [
          7488,
          878
         ],
         "yaxis": "y"
        },
        {
         "legendgroup": "group1",
         "marker": {
          "color": "rgb(56, 166, 165)"
         },
         "name": "36-48 Months",
         "type": "bar",
         "x": [
          "Closed",
          "Active"
         ],
         "xaxis": "x",
         "y": [
          2078,
          1578
         ],
         "yaxis": "y"
        },
        {
         "legendgroup": "group1",
         "marker": {
          "color": "rgb(15, 133, 84)"
         },
         "name": "24-30 Months",
         "type": "bar",
         "x": [
          "Closed",
          "Active"
         ],
         "xaxis": "x",
         "y": [
          1067,
          2425
         ],
         "yaxis": "y"
        },
        {
         "legendgroup": "group1",
         "marker": {
          "color": "rgb(115, 175, 72)"
         },
         "name": "30-36 Months",
         "type": "bar",
         "x": [
          "Closed",
          "Active"
         ],
         "xaxis": "x",
         "y": [
          1018,
          2044
         ],
         "yaxis": "y"
        },
        {
         "legendgroup": "group1",
         "marker": {
          "color": "rgb(237, 173, 8)"
         },
         "name": "18-24 Months",
         "type": "bar",
         "x": [
          "Closed",
          "Active"
         ],
         "xaxis": "x",
         "y": [
          950,
          1418
         ],
         "yaxis": "y"
        },
        {
         "legendgroup": "group1",
         "marker": {
          "color": "rgb(225, 124, 5)"
         },
         "name": "12-18 Months",
         "type": "bar",
         "x": [
          "Closed",
          "Active"
         ],
         "xaxis": "x",
         "y": [
          642,
          392
         ],
         "yaxis": "y"
        },
        {
         "legendgroup": "group1",
         "marker": {
          "color": "rgb(95, 70, 144)"
         },
         "name": "Closed",
         "showlegend": false,
         "type": "bar",
         "x": [
          "No Top-up Service",
          " > 48 Months",
          "36-48 Months",
          "24-30 Months",
          "30-36 Months",
          "18-24 Months",
          "12-18 Months"
         ],
         "xaxis": "x3",
         "y": [
          81214,
          7488,
          2078,
          1067,
          1018,
          950,
          642
         ],
         "yaxis": "y3"
        },
        {
         "legendgroup": "group1",
         "marker": {
          "color": "rgb(29, 105, 150)"
         },
         "name": "Active",
         "showlegend": false,
         "type": "bar",
         "x": [
          "No Top-up Service",
          " > 48 Months",
          "36-48 Months",
          "24-30 Months",
          "30-36 Months",
          "18-24 Months",
          "12-18 Months"
         ],
         "xaxis": "x3",
         "y": [
          25463,
          878,
          1578,
          2425,
          2044,
          1418,
          392
         ],
         "yaxis": "y3"
        },
        {
         "domain": {
          "x": [
           0.7545454545454545,
           1
          ],
          "y": [
           0,
           0.425
          ]
         },
         "labels": [
          "Closed",
          "Active"
         ],
         "legendgroup": "group2",
         "marker": {
          "colors": [
           "rgb(95, 70, 144)",
           "rgb(29, 105, 150)",
           "rgb(56, 166, 165)",
           "rgb(15, 133, 84)",
           "rgb(115, 175, 72)",
           "rgb(237, 173, 8)",
           "rgb(225, 124, 5)",
           "rgb(204, 80, 62)",
           "rgb(148, 52, 110)",
           "rgb(111, 64, 112)",
           "rgb(102, 102, 102)"
          ]
         },
         "type": "pie",
         "values": [
          94457,
          34198
         ]
        }
       ],
       "layout": {
        "barmode": "group",
        "height": 800,
        "legend": {
         "tracegroupgap": 250
        },
        "template": {
         "data": {
          "bar": [
           {
            "error_x": {
             "color": "#2a3f5f"
            },
            "error_y": {
             "color": "#2a3f5f"
            },
            "marker": {
             "line": {
              "color": "#E5ECF6",
              "width": 0.5
             }
            },
            "type": "bar"
           }
          ],
          "barpolar": [
           {
            "marker": {
             "line": {
              "color": "#E5ECF6",
              "width": 0.5
             }
            },
            "type": "barpolar"
           }
          ],
          "carpet": [
           {
            "aaxis": {
             "endlinecolor": "#2a3f5f",
             "gridcolor": "white",
             "linecolor": "white",
             "minorgridcolor": "white",
             "startlinecolor": "#2a3f5f"
            },
            "baxis": {
             "endlinecolor": "#2a3f5f",
             "gridcolor": "white",
             "linecolor": "white",
             "minorgridcolor": "white",
             "startlinecolor": "#2a3f5f"
            },
            "type": "carpet"
           }
          ],
          "choropleth": [
           {
            "colorbar": {
             "outlinewidth": 0,
             "ticks": ""
            },
            "type": "choropleth"
           }
          ],
          "contour": [
           {
            "colorbar": {
             "outlinewidth": 0,
             "ticks": ""
            },
            "colorscale": [
             [
              0,
              "#0d0887"
             ],
             [
              0.1111111111111111,
              "#46039f"
             ],
             [
              0.2222222222222222,
              "#7201a8"
             ],
             [
              0.3333333333333333,
              "#9c179e"
             ],
             [
              0.4444444444444444,
              "#bd3786"
             ],
             [
              0.5555555555555556,
              "#d8576b"
             ],
             [
              0.6666666666666666,
              "#ed7953"
             ],
             [
              0.7777777777777778,
              "#fb9f3a"
             ],
             [
              0.8888888888888888,
              "#fdca26"
             ],
             [
              1,
              "#f0f921"
             ]
            ],
            "type": "contour"
           }
          ],
          "contourcarpet": [
           {
            "colorbar": {
             "outlinewidth": 0,
             "ticks": ""
            },
            "type": "contourcarpet"
           }
          ],
          "heatmap": [
           {
            "colorbar": {
             "outlinewidth": 0,
             "ticks": ""
            },
            "colorscale": [
             [
              0,
              "#0d0887"
             ],
             [
              0.1111111111111111,
              "#46039f"
             ],
             [
              0.2222222222222222,
              "#7201a8"
             ],
             [
              0.3333333333333333,
              "#9c179e"
             ],
             [
              0.4444444444444444,
              "#bd3786"
             ],
             [
              0.5555555555555556,
              "#d8576b"
             ],
             [
              0.6666666666666666,
              "#ed7953"
             ],
             [
              0.7777777777777778,
              "#fb9f3a"
             ],
             [
              0.8888888888888888,
              "#fdca26"
             ],
             [
              1,
              "#f0f921"
             ]
            ],
            "type": "heatmap"
           }
          ],
          "heatmapgl": [
           {
            "colorbar": {
             "outlinewidth": 0,
             "ticks": ""
            },
            "colorscale": [
             [
              0,
              "#0d0887"
             ],
             [
              0.1111111111111111,
              "#46039f"
             ],
             [
              0.2222222222222222,
              "#7201a8"
             ],
             [
              0.3333333333333333,
              "#9c179e"
             ],
             [
              0.4444444444444444,
              "#bd3786"
             ],
             [
              0.5555555555555556,
              "#d8576b"
             ],
             [
              0.6666666666666666,
              "#ed7953"
             ],
             [
              0.7777777777777778,
              "#fb9f3a"
             ],
             [
              0.8888888888888888,
              "#fdca26"
             ],
             [
              1,
              "#f0f921"
             ]
            ],
            "type": "heatmapgl"
           }
          ],
          "histogram": [
           {
            "marker": {
             "colorbar": {
              "outlinewidth": 0,
              "ticks": ""
             }
            },
            "type": "histogram"
           }
          ],
          "histogram2d": [
           {
            "colorbar": {
             "outlinewidth": 0,
             "ticks": ""
            },
            "colorscale": [
             [
              0,
              "#0d0887"
             ],
             [
              0.1111111111111111,
              "#46039f"
             ],
             [
              0.2222222222222222,
              "#7201a8"
             ],
             [
              0.3333333333333333,
              "#9c179e"
             ],
             [
              0.4444444444444444,
              "#bd3786"
             ],
             [
              0.5555555555555556,
              "#d8576b"
             ],
             [
              0.6666666666666666,
              "#ed7953"
             ],
             [
              0.7777777777777778,
              "#fb9f3a"
             ],
             [
              0.8888888888888888,
              "#fdca26"
             ],
             [
              1,
              "#f0f921"
             ]
            ],
            "type": "histogram2d"
           }
          ],
          "histogram2dcontour": [
           {
            "colorbar": {
             "outlinewidth": 0,
             "ticks": ""
            },
            "colorscale": [
             [
              0,
              "#0d0887"
             ],
             [
              0.1111111111111111,
              "#46039f"
             ],
             [
              0.2222222222222222,
              "#7201a8"
             ],
             [
              0.3333333333333333,
              "#9c179e"
             ],
             [
              0.4444444444444444,
              "#bd3786"
             ],
             [
              0.5555555555555556,
              "#d8576b"
             ],
             [
              0.6666666666666666,
              "#ed7953"
             ],
             [
              0.7777777777777778,
              "#fb9f3a"
             ],
             [
              0.8888888888888888,
              "#fdca26"
             ],
             [
              1,
              "#f0f921"
             ]
            ],
            "type": "histogram2dcontour"
           }
          ],
          "mesh3d": [
           {
            "colorbar": {
             "outlinewidth": 0,
             "ticks": ""
            },
            "type": "mesh3d"
           }
          ],
          "parcoords": [
           {
            "line": {
             "colorbar": {
              "outlinewidth": 0,
              "ticks": ""
             }
            },
            "type": "parcoords"
           }
          ],
          "pie": [
           {
            "automargin": true,
            "type": "pie"
           }
          ],
          "scatter": [
           {
            "marker": {
             "colorbar": {
              "outlinewidth": 0,
              "ticks": ""
             }
            },
            "type": "scatter"
           }
          ],
          "scatter3d": [
           {
            "line": {
             "colorbar": {
              "outlinewidth": 0,
              "ticks": ""
             }
            },
            "marker": {
             "colorbar": {
              "outlinewidth": 0,
              "ticks": ""
             }
            },
            "type": "scatter3d"
           }
          ],
          "scattercarpet": [
           {
            "marker": {
             "colorbar": {
              "outlinewidth": 0,
              "ticks": ""
             }
            },
            "type": "scattercarpet"
           }
          ],
          "scattergeo": [
           {
            "marker": {
             "colorbar": {
              "outlinewidth": 0,
              "ticks": ""
             }
            },
            "type": "scattergeo"
           }
          ],
          "scattergl": [
           {
            "marker": {
             "colorbar": {
              "outlinewidth": 0,
              "ticks": ""
             }
            },
            "type": "scattergl"
           }
          ],
          "scattermapbox": [
           {
            "marker": {
             "colorbar": {
              "outlinewidth": 0,
              "ticks": ""
             }
            },
            "type": "scattermapbox"
           }
          ],
          "scatterpolar": [
           {
            "marker": {
             "colorbar": {
              "outlinewidth": 0,
              "ticks": ""
             }
            },
            "type": "scatterpolar"
           }
          ],
          "scatterpolargl": [
           {
            "marker": {
             "colorbar": {
              "outlinewidth": 0,
              "ticks": ""
             }
            },
            "type": "scatterpolargl"
           }
          ],
          "scatterternary": [
           {
            "marker": {
             "colorbar": {
              "outlinewidth": 0,
              "ticks": ""
             }
            },
            "type": "scatterternary"
           }
          ],
          "surface": [
           {
            "colorbar": {
             "outlinewidth": 0,
             "ticks": ""
            },
            "colorscale": [
             [
              0,
              "#0d0887"
             ],
             [
              0.1111111111111111,
              "#46039f"
             ],
             [
              0.2222222222222222,
              "#7201a8"
             ],
             [
              0.3333333333333333,
              "#9c179e"
             ],
             [
              0.4444444444444444,
              "#bd3786"
             ],
             [
              0.5555555555555556,
              "#d8576b"
             ],
             [
              0.6666666666666666,
              "#ed7953"
             ],
             [
              0.7777777777777778,
              "#fb9f3a"
             ],
             [
              0.8888888888888888,
              "#fdca26"
             ],
             [
              1,
              "#f0f921"
             ]
            ],
            "type": "surface"
           }
          ],
          "table": [
           {
            "cells": {
             "fill": {
              "color": "#EBF0F8"
             },
             "line": {
              "color": "white"
             }
            },
            "header": {
             "fill": {
              "color": "#C8D4E3"
             },
             "line": {
              "color": "white"
             }
            },
            "type": "table"
           }
          ]
         },
         "layout": {
          "annotationdefaults": {
           "arrowcolor": "#2a3f5f",
           "arrowhead": 0,
           "arrowwidth": 1
          },
          "autotypenumbers": "strict",
          "coloraxis": {
           "colorbar": {
            "outlinewidth": 0,
            "ticks": ""
           }
          },
          "colorscale": {
           "diverging": [
            [
             0,
             "#8e0152"
            ],
            [
             0.1,
             "#c51b7d"
            ],
            [
             0.2,
             "#de77ae"
            ],
            [
             0.3,
             "#f1b6da"
            ],
            [
             0.4,
             "#fde0ef"
            ],
            [
             0.5,
             "#f7f7f7"
            ],
            [
             0.6,
             "#e6f5d0"
            ],
            [
             0.7,
             "#b8e186"
            ],
            [
             0.8,
             "#7fbc41"
            ],
            [
             0.9,
             "#4d9221"
            ],
            [
             1,
             "#276419"
            ]
           ],
           "sequential": [
            [
             0,
             "#0d0887"
            ],
            [
             0.1111111111111111,
             "#46039f"
            ],
            [
             0.2222222222222222,
             "#7201a8"
            ],
            [
             0.3333333333333333,
             "#9c179e"
            ],
            [
             0.4444444444444444,
             "#bd3786"
            ],
            [
             0.5555555555555556,
             "#d8576b"
            ],
            [
             0.6666666666666666,
             "#ed7953"
            ],
            [
             0.7777777777777778,
             "#fb9f3a"
            ],
            [
             0.8888888888888888,
             "#fdca26"
            ],
            [
             1,
             "#f0f921"
            ]
           ],
           "sequentialminus": [
            [
             0,
             "#0d0887"
            ],
            [
             0.1111111111111111,
             "#46039f"
            ],
            [
             0.2222222222222222,
             "#7201a8"
            ],
            [
             0.3333333333333333,
             "#9c179e"
            ],
            [
             0.4444444444444444,
             "#bd3786"
            ],
            [
             0.5555555555555556,
             "#d8576b"
            ],
            [
             0.6666666666666666,
             "#ed7953"
            ],
            [
             0.7777777777777778,
             "#fb9f3a"
            ],
            [
             0.8888888888888888,
             "#fdca26"
            ],
            [
             1,
             "#f0f921"
            ]
           ]
          },
          "colorway": [
           "#636efa",
           "#EF553B",
           "#00cc96",
           "#ab63fa",
           "#FFA15A",
           "#19d3f3",
           "#FF6692",
           "#B6E880",
           "#FF97FF",
           "#FECB52"
          ],
          "font": {
           "color": "#2a3f5f"
          },
          "geo": {
           "bgcolor": "white",
           "lakecolor": "white",
           "landcolor": "#E5ECF6",
           "showlakes": true,
           "showland": true,
           "subunitcolor": "white"
          },
          "hoverlabel": {
           "align": "left"
          },
          "hovermode": "closest",
          "mapbox": {
           "style": "light"
          },
          "paper_bgcolor": "white",
          "plot_bgcolor": "#E5ECF6",
          "polar": {
           "angularaxis": {
            "gridcolor": "white",
            "linecolor": "white",
            "ticks": ""
           },
           "bgcolor": "#E5ECF6",
           "radialaxis": {
            "gridcolor": "white",
            "linecolor": "white",
            "ticks": ""
           }
          },
          "scene": {
           "xaxis": {
            "backgroundcolor": "#E5ECF6",
            "gridcolor": "white",
            "gridwidth": 2,
            "linecolor": "white",
            "showbackground": true,
            "ticks": "",
            "zerolinecolor": "white"
           },
           "yaxis": {
            "backgroundcolor": "#E5ECF6",
            "gridcolor": "white",
            "gridwidth": 2,
            "linecolor": "white",
            "showbackground": true,
            "ticks": "",
            "zerolinecolor": "white"
           },
           "zaxis": {
            "backgroundcolor": "#E5ECF6",
            "gridcolor": "white",
            "gridwidth": 2,
            "linecolor": "white",
            "showbackground": true,
            "ticks": "",
            "zerolinecolor": "white"
           }
          },
          "shapedefaults": {
           "line": {
            "color": "#2a3f5f"
           }
          },
          "ternary": {
           "aaxis": {
            "gridcolor": "white",
            "linecolor": "white",
            "ticks": ""
           },
           "baxis": {
            "gridcolor": "white",
            "linecolor": "white",
            "ticks": ""
           },
           "bgcolor": "#E5ECF6",
           "caxis": {
            "gridcolor": "white",
            "linecolor": "white",
            "ticks": ""
           }
          },
          "title": {
           "x": 0.05
          },
          "xaxis": {
           "automargin": true,
           "gridcolor": "white",
           "linecolor": "white",
           "ticks": "",
           "title": {
            "standoff": 15
           },
           "zerolinecolor": "white",
           "zerolinewidth": 2
          },
          "yaxis": {
           "automargin": true,
           "gridcolor": "white",
           "linecolor": "white",
           "ticks": "",
           "title": {
            "standoff": 15
           },
           "zerolinecolor": "white",
           "zerolinewidth": 2
          }
         }
        },
        "title": {
         "text": "LoanStatus vizualization based on Top-up Month"
        },
        "xaxis": {
         "anchor": "y",
         "domain": [
          0,
          1
         ]
        },
        "xaxis2": {
         "anchor": "y2",
         "domain": [
          0.7545454545454545,
          1
         ]
        },
        "xaxis3": {
         "anchor": "y3",
         "domain": [
          0,
          0.6545454545454545
         ]
        },
        "yaxis": {
         "anchor": "x",
         "domain": [
          0.575,
          1
         ]
        },
        "yaxis2": {
         "anchor": "x2",
         "domain": [
          0.575,
          1
         ]
        },
        "yaxis3": {
         "anchor": "x3",
         "domain": [
          0,
          0.425
         ]
        }
       }
      },
      "text/html": [
       "<div>                            <div id=\"0da8f21b-c1b4-4544-9972-46364939a6b2\" class=\"plotly-graph-div\" style=\"height:800px; width:100%;\"></div>            <script type=\"text/javascript\">                require([\"plotly\"], function(Plotly) {                    window.PLOTLYENV=window.PLOTLYENV || {};                                    if (document.getElementById(\"0da8f21b-c1b4-4544-9972-46364939a6b2\")) {                    Plotly.newPlot(                        \"0da8f21b-c1b4-4544-9972-46364939a6b2\",                        [{\"legendgroup\": \"group1\", \"marker\": {\"color\": \"rgb(95, 70, 144)\"}, \"name\": \"No Top-up Service\", \"type\": \"bar\", \"x\": [\"Closed\", \"Active\"], \"xaxis\": \"x\", \"y\": [81214, 25463], \"yaxis\": \"y\"}, {\"legendgroup\": \"group1\", \"marker\": {\"color\": \"rgb(29, 105, 150)\"}, \"name\": \" > 48 Months\", \"type\": \"bar\", \"x\": [\"Closed\", \"Active\"], \"xaxis\": \"x\", \"y\": [7488, 878], \"yaxis\": \"y\"}, {\"legendgroup\": \"group1\", \"marker\": {\"color\": \"rgb(56, 166, 165)\"}, \"name\": \"36-48 Months\", \"type\": \"bar\", \"x\": [\"Closed\", \"Active\"], \"xaxis\": \"x\", \"y\": [2078, 1578], \"yaxis\": \"y\"}, {\"legendgroup\": \"group1\", \"marker\": {\"color\": \"rgb(15, 133, 84)\"}, \"name\": \"24-30 Months\", \"type\": \"bar\", \"x\": [\"Closed\", \"Active\"], \"xaxis\": \"x\", \"y\": [1067, 2425], \"yaxis\": \"y\"}, {\"legendgroup\": \"group1\", \"marker\": {\"color\": \"rgb(115, 175, 72)\"}, \"name\": \"30-36 Months\", \"type\": \"bar\", \"x\": [\"Closed\", \"Active\"], \"xaxis\": \"x\", \"y\": [1018, 2044], \"yaxis\": \"y\"}, {\"legendgroup\": \"group1\", \"marker\": {\"color\": \"rgb(237, 173, 8)\"}, \"name\": \"18-24 Months\", \"type\": \"bar\", \"x\": [\"Closed\", \"Active\"], \"xaxis\": \"x\", \"y\": [950, 1418], \"yaxis\": \"y\"}, {\"legendgroup\": \"group1\", \"marker\": {\"color\": \"rgb(225, 124, 5)\"}, \"name\": \"12-18 Months\", \"type\": \"bar\", \"x\": [\"Closed\", \"Active\"], \"xaxis\": \"x\", \"y\": [642, 392], \"yaxis\": \"y\"}, {\"legendgroup\": \"group1\", \"marker\": {\"color\": \"rgb(95, 70, 144)\"}, \"name\": \"Closed\", \"showlegend\": false, \"type\": \"bar\", \"x\": [\"No Top-up Service\", \" > 48 Months\", \"36-48 Months\", \"24-30 Months\", \"30-36 Months\", \"18-24 Months\", \"12-18 Months\"], \"xaxis\": \"x3\", \"y\": [81214, 7488, 2078, 1067, 1018, 950, 642], \"yaxis\": \"y3\"}, {\"legendgroup\": \"group1\", \"marker\": {\"color\": \"rgb(29, 105, 150)\"}, \"name\": \"Active\", \"showlegend\": false, \"type\": \"bar\", \"x\": [\"No Top-up Service\", \" > 48 Months\", \"36-48 Months\", \"24-30 Months\", \"30-36 Months\", \"18-24 Months\", \"12-18 Months\"], \"xaxis\": \"x3\", \"y\": [25463, 878, 1578, 2425, 2044, 1418, 392], \"yaxis\": \"y3\"}, {\"domain\": {\"x\": [0.7545454545454545, 1.0], \"y\": [0.0, 0.425]}, \"labels\": [\"Closed\", \"Active\"], \"legendgroup\": \"group2\", \"marker\": {\"colors\": [\"rgb(95, 70, 144)\", \"rgb(29, 105, 150)\", \"rgb(56, 166, 165)\", \"rgb(15, 133, 84)\", \"rgb(115, 175, 72)\", \"rgb(237, 173, 8)\", \"rgb(225, 124, 5)\", \"rgb(204, 80, 62)\", \"rgb(148, 52, 110)\", \"rgb(111, 64, 112)\", \"rgb(102, 102, 102)\"]}, \"type\": \"pie\", \"values\": [94457, 34198]}],                        {\"barmode\": \"group\", \"height\": 800, \"legend\": {\"tracegroupgap\": 250}, \"template\": {\"data\": {\"bar\": [{\"error_x\": {\"color\": \"#2a3f5f\"}, \"error_y\": {\"color\": \"#2a3f5f\"}, \"marker\": {\"line\": {\"color\": \"#E5ECF6\", \"width\": 0.5}}, \"type\": \"bar\"}], \"barpolar\": [{\"marker\": {\"line\": {\"color\": \"#E5ECF6\", \"width\": 0.5}}, \"type\": \"barpolar\"}], \"carpet\": [{\"aaxis\": {\"endlinecolor\": \"#2a3f5f\", \"gridcolor\": \"white\", \"linecolor\": \"white\", \"minorgridcolor\": \"white\", \"startlinecolor\": \"#2a3f5f\"}, \"baxis\": {\"endlinecolor\": \"#2a3f5f\", \"gridcolor\": \"white\", \"linecolor\": \"white\", \"minorgridcolor\": \"white\", \"startlinecolor\": \"#2a3f5f\"}, \"type\": \"carpet\"}], \"choropleth\": [{\"colorbar\": {\"outlinewidth\": 0, \"ticks\": \"\"}, \"type\": \"choropleth\"}], \"contour\": [{\"colorbar\": {\"outlinewidth\": 0, \"ticks\": \"\"}, \"colorscale\": [[0.0, \"#0d0887\"], [0.1111111111111111, \"#46039f\"], [0.2222222222222222, \"#7201a8\"], [0.3333333333333333, \"#9c179e\"], [0.4444444444444444, \"#bd3786\"], [0.5555555555555556, \"#d8576b\"], [0.6666666666666666, \"#ed7953\"], [0.7777777777777778, \"#fb9f3a\"], [0.8888888888888888, \"#fdca26\"], [1.0, \"#f0f921\"]], \"type\": \"contour\"}], \"contourcarpet\": [{\"colorbar\": {\"outlinewidth\": 0, \"ticks\": \"\"}, \"type\": \"contourcarpet\"}], \"heatmap\": [{\"colorbar\": {\"outlinewidth\": 0, \"ticks\": \"\"}, \"colorscale\": [[0.0, \"#0d0887\"], [0.1111111111111111, \"#46039f\"], [0.2222222222222222, \"#7201a8\"], [0.3333333333333333, \"#9c179e\"], [0.4444444444444444, \"#bd3786\"], [0.5555555555555556, \"#d8576b\"], [0.6666666666666666, \"#ed7953\"], [0.7777777777777778, \"#fb9f3a\"], [0.8888888888888888, \"#fdca26\"], [1.0, \"#f0f921\"]], \"type\": \"heatmap\"}], \"heatmapgl\": [{\"colorbar\": {\"outlinewidth\": 0, \"ticks\": \"\"}, \"colorscale\": [[0.0, \"#0d0887\"], [0.1111111111111111, \"#46039f\"], [0.2222222222222222, \"#7201a8\"], [0.3333333333333333, \"#9c179e\"], [0.4444444444444444, \"#bd3786\"], [0.5555555555555556, \"#d8576b\"], [0.6666666666666666, \"#ed7953\"], [0.7777777777777778, \"#fb9f3a\"], [0.8888888888888888, \"#fdca26\"], [1.0, \"#f0f921\"]], \"type\": \"heatmapgl\"}], \"histogram\": [{\"marker\": {\"colorbar\": {\"outlinewidth\": 0, \"ticks\": \"\"}}, \"type\": \"histogram\"}], \"histogram2d\": [{\"colorbar\": {\"outlinewidth\": 0, \"ticks\": \"\"}, \"colorscale\": [[0.0, \"#0d0887\"], [0.1111111111111111, \"#46039f\"], [0.2222222222222222, \"#7201a8\"], [0.3333333333333333, \"#9c179e\"], [0.4444444444444444, \"#bd3786\"], [0.5555555555555556, \"#d8576b\"], [0.6666666666666666, \"#ed7953\"], [0.7777777777777778, \"#fb9f3a\"], [0.8888888888888888, \"#fdca26\"], [1.0, \"#f0f921\"]], \"type\": \"histogram2d\"}], \"histogram2dcontour\": [{\"colorbar\": {\"outlinewidth\": 0, \"ticks\": \"\"}, \"colorscale\": [[0.0, \"#0d0887\"], [0.1111111111111111, \"#46039f\"], [0.2222222222222222, \"#7201a8\"], [0.3333333333333333, \"#9c179e\"], [0.4444444444444444, \"#bd3786\"], [0.5555555555555556, \"#d8576b\"], [0.6666666666666666, \"#ed7953\"], [0.7777777777777778, \"#fb9f3a\"], [0.8888888888888888, \"#fdca26\"], [1.0, \"#f0f921\"]], \"type\": \"histogram2dcontour\"}], \"mesh3d\": [{\"colorbar\": {\"outlinewidth\": 0, \"ticks\": \"\"}, \"type\": \"mesh3d\"}], \"parcoords\": [{\"line\": {\"colorbar\": {\"outlinewidth\": 0, \"ticks\": \"\"}}, \"type\": \"parcoords\"}], \"pie\": [{\"automargin\": true, \"type\": \"pie\"}], \"scatter\": [{\"marker\": {\"colorbar\": {\"outlinewidth\": 0, \"ticks\": \"\"}}, \"type\": \"scatter\"}], \"scatter3d\": [{\"line\": {\"colorbar\": {\"outlinewidth\": 0, \"ticks\": \"\"}}, \"marker\": {\"colorbar\": {\"outlinewidth\": 0, \"ticks\": \"\"}}, \"type\": \"scatter3d\"}], \"scattercarpet\": [{\"marker\": {\"colorbar\": {\"outlinewidth\": 0, \"ticks\": \"\"}}, \"type\": \"scattercarpet\"}], \"scattergeo\": [{\"marker\": {\"colorbar\": {\"outlinewidth\": 0, \"ticks\": \"\"}}, \"type\": \"scattergeo\"}], \"scattergl\": [{\"marker\": {\"colorbar\": {\"outlinewidth\": 0, \"ticks\": \"\"}}, \"type\": \"scattergl\"}], \"scattermapbox\": [{\"marker\": {\"colorbar\": {\"outlinewidth\": 0, \"ticks\": \"\"}}, \"type\": \"scattermapbox\"}], \"scatterpolar\": [{\"marker\": {\"colorbar\": {\"outlinewidth\": 0, \"ticks\": \"\"}}, \"type\": \"scatterpolar\"}], \"scatterpolargl\": [{\"marker\": {\"colorbar\": {\"outlinewidth\": 0, \"ticks\": \"\"}}, \"type\": \"scatterpolargl\"}], \"scatterternary\": [{\"marker\": {\"colorbar\": {\"outlinewidth\": 0, \"ticks\": \"\"}}, \"type\": \"scatterternary\"}], \"surface\": [{\"colorbar\": {\"outlinewidth\": 0, \"ticks\": \"\"}, \"colorscale\": [[0.0, \"#0d0887\"], [0.1111111111111111, \"#46039f\"], [0.2222222222222222, \"#7201a8\"], [0.3333333333333333, \"#9c179e\"], [0.4444444444444444, \"#bd3786\"], [0.5555555555555556, \"#d8576b\"], [0.6666666666666666, \"#ed7953\"], [0.7777777777777778, \"#fb9f3a\"], [0.8888888888888888, \"#fdca26\"], [1.0, \"#f0f921\"]], \"type\": \"surface\"}], \"table\": [{\"cells\": {\"fill\": {\"color\": \"#EBF0F8\"}, \"line\": {\"color\": \"white\"}}, \"header\": {\"fill\": {\"color\": \"#C8D4E3\"}, \"line\": {\"color\": \"white\"}}, \"type\": \"table\"}]}, \"layout\": {\"annotationdefaults\": {\"arrowcolor\": \"#2a3f5f\", \"arrowhead\": 0, \"arrowwidth\": 1}, \"autotypenumbers\": \"strict\", \"coloraxis\": {\"colorbar\": {\"outlinewidth\": 0, \"ticks\": \"\"}}, \"colorscale\": {\"diverging\": [[0, \"#8e0152\"], [0.1, \"#c51b7d\"], [0.2, \"#de77ae\"], [0.3, \"#f1b6da\"], [0.4, \"#fde0ef\"], [0.5, \"#f7f7f7\"], [0.6, \"#e6f5d0\"], [0.7, \"#b8e186\"], [0.8, \"#7fbc41\"], [0.9, \"#4d9221\"], [1, \"#276419\"]], \"sequential\": [[0.0, \"#0d0887\"], [0.1111111111111111, \"#46039f\"], [0.2222222222222222, \"#7201a8\"], [0.3333333333333333, \"#9c179e\"], [0.4444444444444444, \"#bd3786\"], [0.5555555555555556, \"#d8576b\"], [0.6666666666666666, \"#ed7953\"], [0.7777777777777778, \"#fb9f3a\"], [0.8888888888888888, \"#fdca26\"], [1.0, \"#f0f921\"]], \"sequentialminus\": [[0.0, \"#0d0887\"], [0.1111111111111111, \"#46039f\"], [0.2222222222222222, \"#7201a8\"], [0.3333333333333333, \"#9c179e\"], [0.4444444444444444, \"#bd3786\"], [0.5555555555555556, \"#d8576b\"], [0.6666666666666666, \"#ed7953\"], [0.7777777777777778, \"#fb9f3a\"], [0.8888888888888888, \"#fdca26\"], [1.0, \"#f0f921\"]]}, \"colorway\": [\"#636efa\", \"#EF553B\", \"#00cc96\", \"#ab63fa\", \"#FFA15A\", \"#19d3f3\", \"#FF6692\", \"#B6E880\", \"#FF97FF\", \"#FECB52\"], \"font\": {\"color\": \"#2a3f5f\"}, \"geo\": {\"bgcolor\": \"white\", \"lakecolor\": \"white\", \"landcolor\": \"#E5ECF6\", \"showlakes\": true, \"showland\": true, \"subunitcolor\": \"white\"}, \"hoverlabel\": {\"align\": \"left\"}, \"hovermode\": \"closest\", \"mapbox\": {\"style\": \"light\"}, \"paper_bgcolor\": \"white\", \"plot_bgcolor\": \"#E5ECF6\", \"polar\": {\"angularaxis\": {\"gridcolor\": \"white\", \"linecolor\": \"white\", \"ticks\": \"\"}, \"bgcolor\": \"#E5ECF6\", \"radialaxis\": {\"gridcolor\": \"white\", \"linecolor\": \"white\", \"ticks\": \"\"}}, \"scene\": {\"xaxis\": {\"backgroundcolor\": \"#E5ECF6\", \"gridcolor\": \"white\", \"gridwidth\": 2, \"linecolor\": \"white\", \"showbackground\": true, \"ticks\": \"\", \"zerolinecolor\": \"white\"}, \"yaxis\": {\"backgroundcolor\": \"#E5ECF6\", \"gridcolor\": \"white\", \"gridwidth\": 2, \"linecolor\": \"white\", \"showbackground\": true, \"ticks\": \"\", \"zerolinecolor\": \"white\"}, \"zaxis\": {\"backgroundcolor\": \"#E5ECF6\", \"gridcolor\": \"white\", \"gridwidth\": 2, \"linecolor\": \"white\", \"showbackground\": true, \"ticks\": \"\", \"zerolinecolor\": \"white\"}}, \"shapedefaults\": {\"line\": {\"color\": \"#2a3f5f\"}}, \"ternary\": {\"aaxis\": {\"gridcolor\": \"white\", \"linecolor\": \"white\", \"ticks\": \"\"}, \"baxis\": {\"gridcolor\": \"white\", \"linecolor\": \"white\", \"ticks\": \"\"}, \"bgcolor\": \"#E5ECF6\", \"caxis\": {\"gridcolor\": \"white\", \"linecolor\": \"white\", \"ticks\": \"\"}}, \"title\": {\"x\": 0.05}, \"xaxis\": {\"automargin\": true, \"gridcolor\": \"white\", \"linecolor\": \"white\", \"ticks\": \"\", \"title\": {\"standoff\": 15}, \"zerolinecolor\": \"white\", \"zerolinewidth\": 2}, \"yaxis\": {\"automargin\": true, \"gridcolor\": \"white\", \"linecolor\": \"white\", \"ticks\": \"\", \"title\": {\"standoff\": 15}, \"zerolinecolor\": \"white\", \"zerolinewidth\": 2}}}, \"title\": {\"text\": \"LoanStatus vizualization based on Top-up Month\"}, \"xaxis\": {\"anchor\": \"y\", \"domain\": [0.0, 1.0]}, \"xaxis2\": {\"anchor\": \"y2\", \"domain\": [0.7545454545454545, 1.0]}, \"xaxis3\": {\"anchor\": \"y3\", \"domain\": [0.0, 0.6545454545454545]}, \"yaxis\": {\"anchor\": \"x\", \"domain\": [0.575, 1.0]}, \"yaxis2\": {\"anchor\": \"x2\", \"domain\": [0.575, 1.0]}, \"yaxis3\": {\"anchor\": \"x3\", \"domain\": [0.0, 0.425]}},                        {\"responsive\": true}                    ).then(function(){\n",
       "                            \n",
       "var gd = document.getElementById('0da8f21b-c1b4-4544-9972-46364939a6b2');\n",
       "var x = new MutationObserver(function (mutations, observer) {{\n",
       "        var display = window.getComputedStyle(gd).display;\n",
       "        if (!display || display === 'none') {{\n",
       "            console.log([gd, 'removed!']);\n",
       "            Plotly.purge(gd);\n",
       "            observer.disconnect();\n",
       "        }}\n",
       "}});\n",
       "\n",
       "// Listen for the removal of the full notebook cells\n",
       "var notebookContainer = gd.closest('#notebook-container');\n",
       "if (notebookContainer) {{\n",
       "    x.observe(notebookContainer, {childList: true});\n",
       "}}\n",
       "\n",
       "// Listen for the clearing of the current output cell\n",
       "var outputEl = gd.closest('.output');\n",
       "if (outputEl) {{\n",
       "    x.observe(outputEl, {childList: true});\n",
       "}}\n",
       "\n",
       "                        })                };                });            </script>        </div>"
      ]
     },
     "metadata": {},
     "output_type": "display_data"
    }
   ],
   "source": [
    "draw_plots_categorical('LoanStatus','Top-up Month',df)"
   ]
  },
  {
   "cell_type": "code",
   "execution_count": 13,
   "metadata": {
    "ExecuteTime": {
     "end_time": "2021-04-13T16:20:26.590730Z",
     "start_time": "2021-04-13T16:20:26.470734Z"
    }
   },
   "outputs": [
    {
     "data": {
      "application/vnd.plotly.v1+json": {
       "config": {
        "plotlyServerURL": "https://plot.ly"
       },
       "data": [
        {
         "legendgroup": "group1",
         "marker": {
          "color": "rgb(95, 70, 144)"
         },
         "name": "No Top-up Service",
         "type": "bar",
         "x": [
          "Monthly",
          "Quatrly",
          "Half Yearly",
          "BI-Monthly"
         ],
         "xaxis": "x",
         "y": [
          27147,
          17466,
          61653,
          411
         ],
         "yaxis": "y"
        },
        {
         "legendgroup": "group1",
         "marker": {
          "color": "rgb(29, 105, 150)"
         },
         "name": " > 48 Months",
         "type": "bar",
         "x": [
          "Monthly",
          "Quatrly",
          "Half Yearly",
          "BI-Monthly"
         ],
         "xaxis": "x",
         "y": [
          2593,
          954,
          4816,
          3
         ],
         "yaxis": "y"
        },
        {
         "legendgroup": "group1",
         "marker": {
          "color": "rgb(56, 166, 165)"
         },
         "name": "36-48 Months",
         "type": "bar",
         "x": [
          "Monthly",
          "Quatrly",
          "Half Yearly",
          "BI-Monthly"
         ],
         "xaxis": "x",
         "y": [
          394,
          581,
          2670,
          11
         ],
         "yaxis": "y"
        },
        {
         "legendgroup": "group1",
         "marker": {
          "color": "rgb(15, 133, 84)"
         },
         "name": "18-24 Months",
         "type": "bar",
         "x": [
          "Monthly",
          "Quatrly",
          "Half Yearly",
          "BI-Monthly"
         ],
         "xaxis": "x",
         "y": [
          303,
          441,
          1617,
          7
         ],
         "yaxis": "y"
        },
        {
         "legendgroup": "group1",
         "marker": {
          "color": "rgb(115, 175, 72)"
         },
         "name": "24-30 Months",
         "type": "bar",
         "x": [
          "Monthly",
          "Quatrly",
          "Half Yearly",
          "BI-Monthly"
         ],
         "xaxis": "x",
         "y": [
          287,
          642,
          2543,
          20
         ],
         "yaxis": "y"
        },
        {
         "legendgroup": "group1",
         "marker": {
          "color": "rgb(237, 173, 8)"
         },
         "name": "30-36 Months",
         "type": "bar",
         "x": [
          "Monthly",
          "Quatrly",
          "Half Yearly",
          "BI-Monthly"
         ],
         "xaxis": "x",
         "y": [
          231,
          555,
          2266,
          10
         ],
         "yaxis": "y"
        },
        {
         "legendgroup": "group1",
         "marker": {
          "color": "rgb(225, 124, 5)"
         },
         "name": "12-18 Months",
         "type": "bar",
         "x": [
          "Monthly",
          "Quatrly",
          "Half Yearly",
          "BI-Monthly"
         ],
         "xaxis": "x",
         "y": [
          195,
          156,
          683,
          null
         ],
         "yaxis": "y"
        },
        {
         "legendgroup": "group1",
         "marker": {
          "color": "rgb(95, 70, 144)"
         },
         "name": "Monthly",
         "showlegend": false,
         "type": "bar",
         "x": [
          "No Top-up Service",
          " > 48 Months",
          "36-48 Months",
          "18-24 Months",
          "24-30 Months",
          "30-36 Months",
          "12-18 Months"
         ],
         "xaxis": "x3",
         "y": [
          27147,
          2593,
          394,
          303,
          287,
          231,
          195
         ],
         "yaxis": "y3"
        },
        {
         "legendgroup": "group1",
         "marker": {
          "color": "rgb(29, 105, 150)"
         },
         "name": "Quatrly",
         "showlegend": false,
         "type": "bar",
         "x": [
          "No Top-up Service",
          " > 48 Months",
          "36-48 Months",
          "18-24 Months",
          "24-30 Months",
          "30-36 Months",
          "12-18 Months"
         ],
         "xaxis": "x3",
         "y": [
          17466,
          954,
          581,
          441,
          642,
          555,
          156
         ],
         "yaxis": "y3"
        },
        {
         "legendgroup": "group1",
         "marker": {
          "color": "rgb(95, 70, 144)"
         },
         "name": "Half Yearly",
         "showlegend": false,
         "type": "bar",
         "x": [
          "No Top-up Service",
          " > 48 Months",
          "36-48 Months",
          "18-24 Months",
          "24-30 Months",
          "30-36 Months",
          "12-18 Months"
         ],
         "xaxis": "x3",
         "y": [
          61653,
          4816,
          2670,
          1617,
          2543,
          2266,
          683
         ],
         "yaxis": "y3"
        },
        {
         "legendgroup": "group1",
         "marker": {
          "color": "rgb(29, 105, 150)"
         },
         "name": "BI-Monthly",
         "showlegend": false,
         "type": "bar",
         "x": [
          "No Top-up Service",
          " > 48 Months",
          "36-48 Months",
          "18-24 Months",
          "24-30 Months",
          "30-36 Months",
          "12-18 Months"
         ],
         "xaxis": "x3",
         "y": [
          411,
          3,
          11,
          7,
          20,
          10,
          null
         ],
         "yaxis": "y3"
        },
        {
         "domain": {
          "x": [
           0.7545454545454545,
           1
          ],
          "y": [
           0,
           0.425
          ]
         },
         "labels": [
          "Monthly",
          "Quatrly",
          "Half Yearly",
          "BI-Monthly"
         ],
         "legendgroup": "group2",
         "marker": {
          "colors": [
           "rgb(95, 70, 144)",
           "rgb(29, 105, 150)",
           "rgb(56, 166, 165)",
           "rgb(15, 133, 84)",
           "rgb(115, 175, 72)",
           "rgb(237, 173, 8)",
           "rgb(225, 124, 5)",
           "rgb(204, 80, 62)",
           "rgb(148, 52, 110)",
           "rgb(111, 64, 112)",
           "rgb(102, 102, 102)"
          ]
         },
         "type": "pie",
         "values": [
          31150,
          20795,
          76248,
          462
         ]
        }
       ],
       "layout": {
        "barmode": "group",
        "height": 800,
        "legend": {
         "tracegroupgap": 250
        },
        "template": {
         "data": {
          "bar": [
           {
            "error_x": {
             "color": "#2a3f5f"
            },
            "error_y": {
             "color": "#2a3f5f"
            },
            "marker": {
             "line": {
              "color": "#E5ECF6",
              "width": 0.5
             }
            },
            "type": "bar"
           }
          ],
          "barpolar": [
           {
            "marker": {
             "line": {
              "color": "#E5ECF6",
              "width": 0.5
             }
            },
            "type": "barpolar"
           }
          ],
          "carpet": [
           {
            "aaxis": {
             "endlinecolor": "#2a3f5f",
             "gridcolor": "white",
             "linecolor": "white",
             "minorgridcolor": "white",
             "startlinecolor": "#2a3f5f"
            },
            "baxis": {
             "endlinecolor": "#2a3f5f",
             "gridcolor": "white",
             "linecolor": "white",
             "minorgridcolor": "white",
             "startlinecolor": "#2a3f5f"
            },
            "type": "carpet"
           }
          ],
          "choropleth": [
           {
            "colorbar": {
             "outlinewidth": 0,
             "ticks": ""
            },
            "type": "choropleth"
           }
          ],
          "contour": [
           {
            "colorbar": {
             "outlinewidth": 0,
             "ticks": ""
            },
            "colorscale": [
             [
              0,
              "#0d0887"
             ],
             [
              0.1111111111111111,
              "#46039f"
             ],
             [
              0.2222222222222222,
              "#7201a8"
             ],
             [
              0.3333333333333333,
              "#9c179e"
             ],
             [
              0.4444444444444444,
              "#bd3786"
             ],
             [
              0.5555555555555556,
              "#d8576b"
             ],
             [
              0.6666666666666666,
              "#ed7953"
             ],
             [
              0.7777777777777778,
              "#fb9f3a"
             ],
             [
              0.8888888888888888,
              "#fdca26"
             ],
             [
              1,
              "#f0f921"
             ]
            ],
            "type": "contour"
           }
          ],
          "contourcarpet": [
           {
            "colorbar": {
             "outlinewidth": 0,
             "ticks": ""
            },
            "type": "contourcarpet"
           }
          ],
          "heatmap": [
           {
            "colorbar": {
             "outlinewidth": 0,
             "ticks": ""
            },
            "colorscale": [
             [
              0,
              "#0d0887"
             ],
             [
              0.1111111111111111,
              "#46039f"
             ],
             [
              0.2222222222222222,
              "#7201a8"
             ],
             [
              0.3333333333333333,
              "#9c179e"
             ],
             [
              0.4444444444444444,
              "#bd3786"
             ],
             [
              0.5555555555555556,
              "#d8576b"
             ],
             [
              0.6666666666666666,
              "#ed7953"
             ],
             [
              0.7777777777777778,
              "#fb9f3a"
             ],
             [
              0.8888888888888888,
              "#fdca26"
             ],
             [
              1,
              "#f0f921"
             ]
            ],
            "type": "heatmap"
           }
          ],
          "heatmapgl": [
           {
            "colorbar": {
             "outlinewidth": 0,
             "ticks": ""
            },
            "colorscale": [
             [
              0,
              "#0d0887"
             ],
             [
              0.1111111111111111,
              "#46039f"
             ],
             [
              0.2222222222222222,
              "#7201a8"
             ],
             [
              0.3333333333333333,
              "#9c179e"
             ],
             [
              0.4444444444444444,
              "#bd3786"
             ],
             [
              0.5555555555555556,
              "#d8576b"
             ],
             [
              0.6666666666666666,
              "#ed7953"
             ],
             [
              0.7777777777777778,
              "#fb9f3a"
             ],
             [
              0.8888888888888888,
              "#fdca26"
             ],
             [
              1,
              "#f0f921"
             ]
            ],
            "type": "heatmapgl"
           }
          ],
          "histogram": [
           {
            "marker": {
             "colorbar": {
              "outlinewidth": 0,
              "ticks": ""
             }
            },
            "type": "histogram"
           }
          ],
          "histogram2d": [
           {
            "colorbar": {
             "outlinewidth": 0,
             "ticks": ""
            },
            "colorscale": [
             [
              0,
              "#0d0887"
             ],
             [
              0.1111111111111111,
              "#46039f"
             ],
             [
              0.2222222222222222,
              "#7201a8"
             ],
             [
              0.3333333333333333,
              "#9c179e"
             ],
             [
              0.4444444444444444,
              "#bd3786"
             ],
             [
              0.5555555555555556,
              "#d8576b"
             ],
             [
              0.6666666666666666,
              "#ed7953"
             ],
             [
              0.7777777777777778,
              "#fb9f3a"
             ],
             [
              0.8888888888888888,
              "#fdca26"
             ],
             [
              1,
              "#f0f921"
             ]
            ],
            "type": "histogram2d"
           }
          ],
          "histogram2dcontour": [
           {
            "colorbar": {
             "outlinewidth": 0,
             "ticks": ""
            },
            "colorscale": [
             [
              0,
              "#0d0887"
             ],
             [
              0.1111111111111111,
              "#46039f"
             ],
             [
              0.2222222222222222,
              "#7201a8"
             ],
             [
              0.3333333333333333,
              "#9c179e"
             ],
             [
              0.4444444444444444,
              "#bd3786"
             ],
             [
              0.5555555555555556,
              "#d8576b"
             ],
             [
              0.6666666666666666,
              "#ed7953"
             ],
             [
              0.7777777777777778,
              "#fb9f3a"
             ],
             [
              0.8888888888888888,
              "#fdca26"
             ],
             [
              1,
              "#f0f921"
             ]
            ],
            "type": "histogram2dcontour"
           }
          ],
          "mesh3d": [
           {
            "colorbar": {
             "outlinewidth": 0,
             "ticks": ""
            },
            "type": "mesh3d"
           }
          ],
          "parcoords": [
           {
            "line": {
             "colorbar": {
              "outlinewidth": 0,
              "ticks": ""
             }
            },
            "type": "parcoords"
           }
          ],
          "pie": [
           {
            "automargin": true,
            "type": "pie"
           }
          ],
          "scatter": [
           {
            "marker": {
             "colorbar": {
              "outlinewidth": 0,
              "ticks": ""
             }
            },
            "type": "scatter"
           }
          ],
          "scatter3d": [
           {
            "line": {
             "colorbar": {
              "outlinewidth": 0,
              "ticks": ""
             }
            },
            "marker": {
             "colorbar": {
              "outlinewidth": 0,
              "ticks": ""
             }
            },
            "type": "scatter3d"
           }
          ],
          "scattercarpet": [
           {
            "marker": {
             "colorbar": {
              "outlinewidth": 0,
              "ticks": ""
             }
            },
            "type": "scattercarpet"
           }
          ],
          "scattergeo": [
           {
            "marker": {
             "colorbar": {
              "outlinewidth": 0,
              "ticks": ""
             }
            },
            "type": "scattergeo"
           }
          ],
          "scattergl": [
           {
            "marker": {
             "colorbar": {
              "outlinewidth": 0,
              "ticks": ""
             }
            },
            "type": "scattergl"
           }
          ],
          "scattermapbox": [
           {
            "marker": {
             "colorbar": {
              "outlinewidth": 0,
              "ticks": ""
             }
            },
            "type": "scattermapbox"
           }
          ],
          "scatterpolar": [
           {
            "marker": {
             "colorbar": {
              "outlinewidth": 0,
              "ticks": ""
             }
            },
            "type": "scatterpolar"
           }
          ],
          "scatterpolargl": [
           {
            "marker": {
             "colorbar": {
              "outlinewidth": 0,
              "ticks": ""
             }
            },
            "type": "scatterpolargl"
           }
          ],
          "scatterternary": [
           {
            "marker": {
             "colorbar": {
              "outlinewidth": 0,
              "ticks": ""
             }
            },
            "type": "scatterternary"
           }
          ],
          "surface": [
           {
            "colorbar": {
             "outlinewidth": 0,
             "ticks": ""
            },
            "colorscale": [
             [
              0,
              "#0d0887"
             ],
             [
              0.1111111111111111,
              "#46039f"
             ],
             [
              0.2222222222222222,
              "#7201a8"
             ],
             [
              0.3333333333333333,
              "#9c179e"
             ],
             [
              0.4444444444444444,
              "#bd3786"
             ],
             [
              0.5555555555555556,
              "#d8576b"
             ],
             [
              0.6666666666666666,
              "#ed7953"
             ],
             [
              0.7777777777777778,
              "#fb9f3a"
             ],
             [
              0.8888888888888888,
              "#fdca26"
             ],
             [
              1,
              "#f0f921"
             ]
            ],
            "type": "surface"
           }
          ],
          "table": [
           {
            "cells": {
             "fill": {
              "color": "#EBF0F8"
             },
             "line": {
              "color": "white"
             }
            },
            "header": {
             "fill": {
              "color": "#C8D4E3"
             },
             "line": {
              "color": "white"
             }
            },
            "type": "table"
           }
          ]
         },
         "layout": {
          "annotationdefaults": {
           "arrowcolor": "#2a3f5f",
           "arrowhead": 0,
           "arrowwidth": 1
          },
          "autotypenumbers": "strict",
          "coloraxis": {
           "colorbar": {
            "outlinewidth": 0,
            "ticks": ""
           }
          },
          "colorscale": {
           "diverging": [
            [
             0,
             "#8e0152"
            ],
            [
             0.1,
             "#c51b7d"
            ],
            [
             0.2,
             "#de77ae"
            ],
            [
             0.3,
             "#f1b6da"
            ],
            [
             0.4,
             "#fde0ef"
            ],
            [
             0.5,
             "#f7f7f7"
            ],
            [
             0.6,
             "#e6f5d0"
            ],
            [
             0.7,
             "#b8e186"
            ],
            [
             0.8,
             "#7fbc41"
            ],
            [
             0.9,
             "#4d9221"
            ],
            [
             1,
             "#276419"
            ]
           ],
           "sequential": [
            [
             0,
             "#0d0887"
            ],
            [
             0.1111111111111111,
             "#46039f"
            ],
            [
             0.2222222222222222,
             "#7201a8"
            ],
            [
             0.3333333333333333,
             "#9c179e"
            ],
            [
             0.4444444444444444,
             "#bd3786"
            ],
            [
             0.5555555555555556,
             "#d8576b"
            ],
            [
             0.6666666666666666,
             "#ed7953"
            ],
            [
             0.7777777777777778,
             "#fb9f3a"
            ],
            [
             0.8888888888888888,
             "#fdca26"
            ],
            [
             1,
             "#f0f921"
            ]
           ],
           "sequentialminus": [
            [
             0,
             "#0d0887"
            ],
            [
             0.1111111111111111,
             "#46039f"
            ],
            [
             0.2222222222222222,
             "#7201a8"
            ],
            [
             0.3333333333333333,
             "#9c179e"
            ],
            [
             0.4444444444444444,
             "#bd3786"
            ],
            [
             0.5555555555555556,
             "#d8576b"
            ],
            [
             0.6666666666666666,
             "#ed7953"
            ],
            [
             0.7777777777777778,
             "#fb9f3a"
            ],
            [
             0.8888888888888888,
             "#fdca26"
            ],
            [
             1,
             "#f0f921"
            ]
           ]
          },
          "colorway": [
           "#636efa",
           "#EF553B",
           "#00cc96",
           "#ab63fa",
           "#FFA15A",
           "#19d3f3",
           "#FF6692",
           "#B6E880",
           "#FF97FF",
           "#FECB52"
          ],
          "font": {
           "color": "#2a3f5f"
          },
          "geo": {
           "bgcolor": "white",
           "lakecolor": "white",
           "landcolor": "#E5ECF6",
           "showlakes": true,
           "showland": true,
           "subunitcolor": "white"
          },
          "hoverlabel": {
           "align": "left"
          },
          "hovermode": "closest",
          "mapbox": {
           "style": "light"
          },
          "paper_bgcolor": "white",
          "plot_bgcolor": "#E5ECF6",
          "polar": {
           "angularaxis": {
            "gridcolor": "white",
            "linecolor": "white",
            "ticks": ""
           },
           "bgcolor": "#E5ECF6",
           "radialaxis": {
            "gridcolor": "white",
            "linecolor": "white",
            "ticks": ""
           }
          },
          "scene": {
           "xaxis": {
            "backgroundcolor": "#E5ECF6",
            "gridcolor": "white",
            "gridwidth": 2,
            "linecolor": "white",
            "showbackground": true,
            "ticks": "",
            "zerolinecolor": "white"
           },
           "yaxis": {
            "backgroundcolor": "#E5ECF6",
            "gridcolor": "white",
            "gridwidth": 2,
            "linecolor": "white",
            "showbackground": true,
            "ticks": "",
            "zerolinecolor": "white"
           },
           "zaxis": {
            "backgroundcolor": "#E5ECF6",
            "gridcolor": "white",
            "gridwidth": 2,
            "linecolor": "white",
            "showbackground": true,
            "ticks": "",
            "zerolinecolor": "white"
           }
          },
          "shapedefaults": {
           "line": {
            "color": "#2a3f5f"
           }
          },
          "ternary": {
           "aaxis": {
            "gridcolor": "white",
            "linecolor": "white",
            "ticks": ""
           },
           "baxis": {
            "gridcolor": "white",
            "linecolor": "white",
            "ticks": ""
           },
           "bgcolor": "#E5ECF6",
           "caxis": {
            "gridcolor": "white",
            "linecolor": "white",
            "ticks": ""
           }
          },
          "title": {
           "x": 0.05
          },
          "xaxis": {
           "automargin": true,
           "gridcolor": "white",
           "linecolor": "white",
           "ticks": "",
           "title": {
            "standoff": 15
           },
           "zerolinecolor": "white",
           "zerolinewidth": 2
          },
          "yaxis": {
           "automargin": true,
           "gridcolor": "white",
           "linecolor": "white",
           "ticks": "",
           "title": {
            "standoff": 15
           },
           "zerolinecolor": "white",
           "zerolinewidth": 2
          }
         }
        },
        "title": {
         "text": "Frequency vizualization based on Top-up Month"
        },
        "xaxis": {
         "anchor": "y",
         "domain": [
          0,
          1
         ]
        },
        "xaxis2": {
         "anchor": "y2",
         "domain": [
          0.7545454545454545,
          1
         ]
        },
        "xaxis3": {
         "anchor": "y3",
         "domain": [
          0,
          0.6545454545454545
         ]
        },
        "yaxis": {
         "anchor": "x",
         "domain": [
          0.575,
          1
         ]
        },
        "yaxis2": {
         "anchor": "x2",
         "domain": [
          0.575,
          1
         ]
        },
        "yaxis3": {
         "anchor": "x3",
         "domain": [
          0,
          0.425
         ]
        }
       }
      },
      "text/html": [
       "<div>                            <div id=\"141042d4-b042-46a2-a613-22416abbef97\" class=\"plotly-graph-div\" style=\"height:800px; width:100%;\"></div>            <script type=\"text/javascript\">                require([\"plotly\"], function(Plotly) {                    window.PLOTLYENV=window.PLOTLYENV || {};                                    if (document.getElementById(\"141042d4-b042-46a2-a613-22416abbef97\")) {                    Plotly.newPlot(                        \"141042d4-b042-46a2-a613-22416abbef97\",                        [{\"legendgroup\": \"group1\", \"marker\": {\"color\": \"rgb(95, 70, 144)\"}, \"name\": \"No Top-up Service\", \"type\": \"bar\", \"x\": [\"Monthly\", \"Quatrly\", \"Half Yearly\", \"BI-Monthly\"], \"xaxis\": \"x\", \"y\": [27147.0, 17466.0, 61653.0, 411.0], \"yaxis\": \"y\"}, {\"legendgroup\": \"group1\", \"marker\": {\"color\": \"rgb(29, 105, 150)\"}, \"name\": \" > 48 Months\", \"type\": \"bar\", \"x\": [\"Monthly\", \"Quatrly\", \"Half Yearly\", \"BI-Monthly\"], \"xaxis\": \"x\", \"y\": [2593.0, 954.0, 4816.0, 3.0], \"yaxis\": \"y\"}, {\"legendgroup\": \"group1\", \"marker\": {\"color\": \"rgb(56, 166, 165)\"}, \"name\": \"36-48 Months\", \"type\": \"bar\", \"x\": [\"Monthly\", \"Quatrly\", \"Half Yearly\", \"BI-Monthly\"], \"xaxis\": \"x\", \"y\": [394.0, 581.0, 2670.0, 11.0], \"yaxis\": \"y\"}, {\"legendgroup\": \"group1\", \"marker\": {\"color\": \"rgb(15, 133, 84)\"}, \"name\": \"18-24 Months\", \"type\": \"bar\", \"x\": [\"Monthly\", \"Quatrly\", \"Half Yearly\", \"BI-Monthly\"], \"xaxis\": \"x\", \"y\": [303.0, 441.0, 1617.0, 7.0], \"yaxis\": \"y\"}, {\"legendgroup\": \"group1\", \"marker\": {\"color\": \"rgb(115, 175, 72)\"}, \"name\": \"24-30 Months\", \"type\": \"bar\", \"x\": [\"Monthly\", \"Quatrly\", \"Half Yearly\", \"BI-Monthly\"], \"xaxis\": \"x\", \"y\": [287.0, 642.0, 2543.0, 20.0], \"yaxis\": \"y\"}, {\"legendgroup\": \"group1\", \"marker\": {\"color\": \"rgb(237, 173, 8)\"}, \"name\": \"30-36 Months\", \"type\": \"bar\", \"x\": [\"Monthly\", \"Quatrly\", \"Half Yearly\", \"BI-Monthly\"], \"xaxis\": \"x\", \"y\": [231.0, 555.0, 2266.0, 10.0], \"yaxis\": \"y\"}, {\"legendgroup\": \"group1\", \"marker\": {\"color\": \"rgb(225, 124, 5)\"}, \"name\": \"12-18 Months\", \"type\": \"bar\", \"x\": [\"Monthly\", \"Quatrly\", \"Half Yearly\", \"BI-Monthly\"], \"xaxis\": \"x\", \"y\": [195.0, 156.0, 683.0, null], \"yaxis\": \"y\"}, {\"legendgroup\": \"group1\", \"marker\": {\"color\": \"rgb(95, 70, 144)\"}, \"name\": \"Monthly\", \"showlegend\": false, \"type\": \"bar\", \"x\": [\"No Top-up Service\", \" > 48 Months\", \"36-48 Months\", \"18-24 Months\", \"24-30 Months\", \"30-36 Months\", \"12-18 Months\"], \"xaxis\": \"x3\", \"y\": [27147.0, 2593.0, 394.0, 303.0, 287.0, 231.0, 195.0], \"yaxis\": \"y3\"}, {\"legendgroup\": \"group1\", \"marker\": {\"color\": \"rgb(29, 105, 150)\"}, \"name\": \"Quatrly\", \"showlegend\": false, \"type\": \"bar\", \"x\": [\"No Top-up Service\", \" > 48 Months\", \"36-48 Months\", \"18-24 Months\", \"24-30 Months\", \"30-36 Months\", \"12-18 Months\"], \"xaxis\": \"x3\", \"y\": [17466.0, 954.0, 581.0, 441.0, 642.0, 555.0, 156.0], \"yaxis\": \"y3\"}, {\"legendgroup\": \"group1\", \"marker\": {\"color\": \"rgb(95, 70, 144)\"}, \"name\": \"Half Yearly\", \"showlegend\": false, \"type\": \"bar\", \"x\": [\"No Top-up Service\", \" > 48 Months\", \"36-48 Months\", \"18-24 Months\", \"24-30 Months\", \"30-36 Months\", \"12-18 Months\"], \"xaxis\": \"x3\", \"y\": [61653.0, 4816.0, 2670.0, 1617.0, 2543.0, 2266.0, 683.0], \"yaxis\": \"y3\"}, {\"legendgroup\": \"group1\", \"marker\": {\"color\": \"rgb(29, 105, 150)\"}, \"name\": \"BI-Monthly\", \"showlegend\": false, \"type\": \"bar\", \"x\": [\"No Top-up Service\", \" > 48 Months\", \"36-48 Months\", \"18-24 Months\", \"24-30 Months\", \"30-36 Months\", \"12-18 Months\"], \"xaxis\": \"x3\", \"y\": [411.0, 3.0, 11.0, 7.0, 20.0, 10.0, null], \"yaxis\": \"y3\"}, {\"domain\": {\"x\": [0.7545454545454545, 1.0], \"y\": [0.0, 0.425]}, \"labels\": [\"Monthly\", \"Quatrly\", \"Half Yearly\", \"BI-Monthly\"], \"legendgroup\": \"group2\", \"marker\": {\"colors\": [\"rgb(95, 70, 144)\", \"rgb(29, 105, 150)\", \"rgb(56, 166, 165)\", \"rgb(15, 133, 84)\", \"rgb(115, 175, 72)\", \"rgb(237, 173, 8)\", \"rgb(225, 124, 5)\", \"rgb(204, 80, 62)\", \"rgb(148, 52, 110)\", \"rgb(111, 64, 112)\", \"rgb(102, 102, 102)\"]}, \"type\": \"pie\", \"values\": [31150.0, 20795.0, 76248.0, 462.0]}],                        {\"barmode\": \"group\", \"height\": 800, \"legend\": {\"tracegroupgap\": 250}, \"template\": {\"data\": {\"bar\": [{\"error_x\": {\"color\": \"#2a3f5f\"}, \"error_y\": {\"color\": \"#2a3f5f\"}, \"marker\": {\"line\": {\"color\": \"#E5ECF6\", \"width\": 0.5}}, \"type\": \"bar\"}], \"barpolar\": [{\"marker\": {\"line\": {\"color\": \"#E5ECF6\", \"width\": 0.5}}, \"type\": \"barpolar\"}], \"carpet\": [{\"aaxis\": {\"endlinecolor\": \"#2a3f5f\", \"gridcolor\": \"white\", \"linecolor\": \"white\", \"minorgridcolor\": \"white\", \"startlinecolor\": \"#2a3f5f\"}, \"baxis\": {\"endlinecolor\": \"#2a3f5f\", \"gridcolor\": \"white\", \"linecolor\": \"white\", \"minorgridcolor\": \"white\", \"startlinecolor\": \"#2a3f5f\"}, \"type\": \"carpet\"}], \"choropleth\": [{\"colorbar\": {\"outlinewidth\": 0, \"ticks\": \"\"}, \"type\": \"choropleth\"}], \"contour\": [{\"colorbar\": {\"outlinewidth\": 0, \"ticks\": \"\"}, \"colorscale\": [[0.0, \"#0d0887\"], [0.1111111111111111, \"#46039f\"], [0.2222222222222222, \"#7201a8\"], [0.3333333333333333, \"#9c179e\"], [0.4444444444444444, \"#bd3786\"], [0.5555555555555556, \"#d8576b\"], [0.6666666666666666, \"#ed7953\"], [0.7777777777777778, \"#fb9f3a\"], [0.8888888888888888, \"#fdca26\"], [1.0, \"#f0f921\"]], \"type\": \"contour\"}], \"contourcarpet\": [{\"colorbar\": {\"outlinewidth\": 0, \"ticks\": \"\"}, \"type\": \"contourcarpet\"}], \"heatmap\": [{\"colorbar\": {\"outlinewidth\": 0, \"ticks\": \"\"}, \"colorscale\": [[0.0, \"#0d0887\"], [0.1111111111111111, \"#46039f\"], [0.2222222222222222, \"#7201a8\"], [0.3333333333333333, \"#9c179e\"], [0.4444444444444444, \"#bd3786\"], [0.5555555555555556, \"#d8576b\"], [0.6666666666666666, \"#ed7953\"], [0.7777777777777778, \"#fb9f3a\"], [0.8888888888888888, \"#fdca26\"], [1.0, \"#f0f921\"]], \"type\": \"heatmap\"}], \"heatmapgl\": [{\"colorbar\": {\"outlinewidth\": 0, \"ticks\": \"\"}, \"colorscale\": [[0.0, \"#0d0887\"], [0.1111111111111111, \"#46039f\"], [0.2222222222222222, \"#7201a8\"], [0.3333333333333333, \"#9c179e\"], [0.4444444444444444, \"#bd3786\"], [0.5555555555555556, \"#d8576b\"], [0.6666666666666666, \"#ed7953\"], [0.7777777777777778, \"#fb9f3a\"], [0.8888888888888888, \"#fdca26\"], [1.0, \"#f0f921\"]], \"type\": \"heatmapgl\"}], \"histogram\": [{\"marker\": {\"colorbar\": {\"outlinewidth\": 0, \"ticks\": \"\"}}, \"type\": \"histogram\"}], \"histogram2d\": [{\"colorbar\": {\"outlinewidth\": 0, \"ticks\": \"\"}, \"colorscale\": [[0.0, \"#0d0887\"], [0.1111111111111111, \"#46039f\"], [0.2222222222222222, \"#7201a8\"], [0.3333333333333333, \"#9c179e\"], [0.4444444444444444, \"#bd3786\"], [0.5555555555555556, \"#d8576b\"], [0.6666666666666666, \"#ed7953\"], [0.7777777777777778, \"#fb9f3a\"], [0.8888888888888888, \"#fdca26\"], [1.0, \"#f0f921\"]], \"type\": \"histogram2d\"}], \"histogram2dcontour\": [{\"colorbar\": {\"outlinewidth\": 0, \"ticks\": \"\"}, \"colorscale\": [[0.0, \"#0d0887\"], [0.1111111111111111, \"#46039f\"], [0.2222222222222222, \"#7201a8\"], [0.3333333333333333, \"#9c179e\"], [0.4444444444444444, \"#bd3786\"], [0.5555555555555556, \"#d8576b\"], [0.6666666666666666, \"#ed7953\"], [0.7777777777777778, \"#fb9f3a\"], [0.8888888888888888, \"#fdca26\"], [1.0, \"#f0f921\"]], \"type\": \"histogram2dcontour\"}], \"mesh3d\": [{\"colorbar\": {\"outlinewidth\": 0, \"ticks\": \"\"}, \"type\": \"mesh3d\"}], \"parcoords\": [{\"line\": {\"colorbar\": {\"outlinewidth\": 0, \"ticks\": \"\"}}, \"type\": \"parcoords\"}], \"pie\": [{\"automargin\": true, \"type\": \"pie\"}], \"scatter\": [{\"marker\": {\"colorbar\": {\"outlinewidth\": 0, \"ticks\": \"\"}}, \"type\": \"scatter\"}], \"scatter3d\": [{\"line\": {\"colorbar\": {\"outlinewidth\": 0, \"ticks\": \"\"}}, \"marker\": {\"colorbar\": {\"outlinewidth\": 0, \"ticks\": \"\"}}, \"type\": \"scatter3d\"}], \"scattercarpet\": [{\"marker\": {\"colorbar\": {\"outlinewidth\": 0, \"ticks\": \"\"}}, \"type\": \"scattercarpet\"}], \"scattergeo\": [{\"marker\": {\"colorbar\": {\"outlinewidth\": 0, \"ticks\": \"\"}}, \"type\": \"scattergeo\"}], \"scattergl\": [{\"marker\": {\"colorbar\": {\"outlinewidth\": 0, \"ticks\": \"\"}}, \"type\": \"scattergl\"}], \"scattermapbox\": [{\"marker\": {\"colorbar\": {\"outlinewidth\": 0, \"ticks\": \"\"}}, \"type\": \"scattermapbox\"}], \"scatterpolar\": [{\"marker\": {\"colorbar\": {\"outlinewidth\": 0, \"ticks\": \"\"}}, \"type\": \"scatterpolar\"}], \"scatterpolargl\": [{\"marker\": {\"colorbar\": {\"outlinewidth\": 0, \"ticks\": \"\"}}, \"type\": \"scatterpolargl\"}], \"scatterternary\": [{\"marker\": {\"colorbar\": {\"outlinewidth\": 0, \"ticks\": \"\"}}, \"type\": \"scatterternary\"}], \"surface\": [{\"colorbar\": {\"outlinewidth\": 0, \"ticks\": \"\"}, \"colorscale\": [[0.0, \"#0d0887\"], [0.1111111111111111, \"#46039f\"], [0.2222222222222222, \"#7201a8\"], [0.3333333333333333, \"#9c179e\"], [0.4444444444444444, \"#bd3786\"], [0.5555555555555556, \"#d8576b\"], [0.6666666666666666, \"#ed7953\"], [0.7777777777777778, \"#fb9f3a\"], [0.8888888888888888, \"#fdca26\"], [1.0, \"#f0f921\"]], \"type\": \"surface\"}], \"table\": [{\"cells\": {\"fill\": {\"color\": \"#EBF0F8\"}, \"line\": {\"color\": \"white\"}}, \"header\": {\"fill\": {\"color\": \"#C8D4E3\"}, \"line\": {\"color\": \"white\"}}, \"type\": \"table\"}]}, \"layout\": {\"annotationdefaults\": {\"arrowcolor\": \"#2a3f5f\", \"arrowhead\": 0, \"arrowwidth\": 1}, \"autotypenumbers\": \"strict\", \"coloraxis\": {\"colorbar\": {\"outlinewidth\": 0, \"ticks\": \"\"}}, \"colorscale\": {\"diverging\": [[0, \"#8e0152\"], [0.1, \"#c51b7d\"], [0.2, \"#de77ae\"], [0.3, \"#f1b6da\"], [0.4, \"#fde0ef\"], [0.5, \"#f7f7f7\"], [0.6, \"#e6f5d0\"], [0.7, \"#b8e186\"], [0.8, \"#7fbc41\"], [0.9, \"#4d9221\"], [1, \"#276419\"]], \"sequential\": [[0.0, \"#0d0887\"], [0.1111111111111111, \"#46039f\"], [0.2222222222222222, \"#7201a8\"], [0.3333333333333333, \"#9c179e\"], [0.4444444444444444, \"#bd3786\"], [0.5555555555555556, \"#d8576b\"], [0.6666666666666666, \"#ed7953\"], [0.7777777777777778, \"#fb9f3a\"], [0.8888888888888888, \"#fdca26\"], [1.0, \"#f0f921\"]], \"sequentialminus\": [[0.0, \"#0d0887\"], [0.1111111111111111, \"#46039f\"], [0.2222222222222222, \"#7201a8\"], [0.3333333333333333, \"#9c179e\"], [0.4444444444444444, \"#bd3786\"], [0.5555555555555556, \"#d8576b\"], [0.6666666666666666, \"#ed7953\"], [0.7777777777777778, \"#fb9f3a\"], [0.8888888888888888, \"#fdca26\"], [1.0, \"#f0f921\"]]}, \"colorway\": [\"#636efa\", \"#EF553B\", \"#00cc96\", \"#ab63fa\", \"#FFA15A\", \"#19d3f3\", \"#FF6692\", \"#B6E880\", \"#FF97FF\", \"#FECB52\"], \"font\": {\"color\": \"#2a3f5f\"}, \"geo\": {\"bgcolor\": \"white\", \"lakecolor\": \"white\", \"landcolor\": \"#E5ECF6\", \"showlakes\": true, \"showland\": true, \"subunitcolor\": \"white\"}, \"hoverlabel\": {\"align\": \"left\"}, \"hovermode\": \"closest\", \"mapbox\": {\"style\": \"light\"}, \"paper_bgcolor\": \"white\", \"plot_bgcolor\": \"#E5ECF6\", \"polar\": {\"angularaxis\": {\"gridcolor\": \"white\", \"linecolor\": \"white\", \"ticks\": \"\"}, \"bgcolor\": \"#E5ECF6\", \"radialaxis\": {\"gridcolor\": \"white\", \"linecolor\": \"white\", \"ticks\": \"\"}}, \"scene\": {\"xaxis\": {\"backgroundcolor\": \"#E5ECF6\", \"gridcolor\": \"white\", \"gridwidth\": 2, \"linecolor\": \"white\", \"showbackground\": true, \"ticks\": \"\", \"zerolinecolor\": \"white\"}, \"yaxis\": {\"backgroundcolor\": \"#E5ECF6\", \"gridcolor\": \"white\", \"gridwidth\": 2, \"linecolor\": \"white\", \"showbackground\": true, \"ticks\": \"\", \"zerolinecolor\": \"white\"}, \"zaxis\": {\"backgroundcolor\": \"#E5ECF6\", \"gridcolor\": \"white\", \"gridwidth\": 2, \"linecolor\": \"white\", \"showbackground\": true, \"ticks\": \"\", \"zerolinecolor\": \"white\"}}, \"shapedefaults\": {\"line\": {\"color\": \"#2a3f5f\"}}, \"ternary\": {\"aaxis\": {\"gridcolor\": \"white\", \"linecolor\": \"white\", \"ticks\": \"\"}, \"baxis\": {\"gridcolor\": \"white\", \"linecolor\": \"white\", \"ticks\": \"\"}, \"bgcolor\": \"#E5ECF6\", \"caxis\": {\"gridcolor\": \"white\", \"linecolor\": \"white\", \"ticks\": \"\"}}, \"title\": {\"x\": 0.05}, \"xaxis\": {\"automargin\": true, \"gridcolor\": \"white\", \"linecolor\": \"white\", \"ticks\": \"\", \"title\": {\"standoff\": 15}, \"zerolinecolor\": \"white\", \"zerolinewidth\": 2}, \"yaxis\": {\"automargin\": true, \"gridcolor\": \"white\", \"linecolor\": \"white\", \"ticks\": \"\", \"title\": {\"standoff\": 15}, \"zerolinecolor\": \"white\", \"zerolinewidth\": 2}}}, \"title\": {\"text\": \"Frequency vizualization based on Top-up Month\"}, \"xaxis\": {\"anchor\": \"y\", \"domain\": [0.0, 1.0]}, \"xaxis2\": {\"anchor\": \"y2\", \"domain\": [0.7545454545454545, 1.0]}, \"xaxis3\": {\"anchor\": \"y3\", \"domain\": [0.0, 0.6545454545454545]}, \"yaxis\": {\"anchor\": \"x\", \"domain\": [0.575, 1.0]}, \"yaxis2\": {\"anchor\": \"x2\", \"domain\": [0.575, 1.0]}, \"yaxis3\": {\"anchor\": \"x3\", \"domain\": [0.0, 0.425]}},                        {\"responsive\": true}                    ).then(function(){\n",
       "                            \n",
       "var gd = document.getElementById('141042d4-b042-46a2-a613-22416abbef97');\n",
       "var x = new MutationObserver(function (mutations, observer) {{\n",
       "        var display = window.getComputedStyle(gd).display;\n",
       "        if (!display || display === 'none') {{\n",
       "            console.log([gd, 'removed!']);\n",
       "            Plotly.purge(gd);\n",
       "            observer.disconnect();\n",
       "        }}\n",
       "}});\n",
       "\n",
       "// Listen for the removal of the full notebook cells\n",
       "var notebookContainer = gd.closest('#notebook-container');\n",
       "if (notebookContainer) {{\n",
       "    x.observe(notebookContainer, {childList: true});\n",
       "}}\n",
       "\n",
       "// Listen for the clearing of the current output cell\n",
       "var outputEl = gd.closest('.output');\n",
       "if (outputEl) {{\n",
       "    x.observe(outputEl, {childList: true});\n",
       "}}\n",
       "\n",
       "                        })                };                });            </script>        </div>"
      ]
     },
     "metadata": {},
     "output_type": "display_data"
    }
   ],
   "source": [
    "draw_plots_categorical('Frequency','Top-up Month',df)"
   ]
  },
  {
   "cell_type": "code",
   "execution_count": 14,
   "metadata": {
    "ExecuteTime": {
     "end_time": "2021-04-13T16:20:37.746922Z",
     "start_time": "2021-04-13T16:20:37.547518Z"
    }
   },
   "outputs": [
    {
     "data": {
      "application/vnd.plotly.v1+json": {
       "config": {
        "plotlyServerURL": "https://plot.ly"
       },
       "data": [
        {
         "legendgroup": "group1",
         "marker": {
          "color": "rgb(95, 70, 144)"
         },
         "name": "No Top-up Service",
         "type": "bar",
         "x": [
          "PDC_E",
          "PDC",
          "Direct Debit",
          "Billed",
          "ECS",
          "Auto Debit",
          "SI Reject",
          "ECS Reject",
          "Cheque",
          "PDC Reject",
          "Escrow"
         ],
         "xaxis": "x",
         "y": [
          8728,
          22639,
          25315,
          23215,
          24781,
          700,
          586,
          346,
          356,
          6,
          5
         ],
         "yaxis": "y"
        },
        {
         "legendgroup": "group1",
         "marker": {
          "color": "rgb(29, 105, 150)"
         },
         "name": " > 48 Months",
         "type": "bar",
         "x": [
          "PDC_E",
          "PDC",
          "Direct Debit",
          "Billed",
          "ECS",
          "Auto Debit",
          "SI Reject",
          "ECS Reject",
          "Cheque",
          "PDC Reject",
          "Escrow"
         ],
         "xaxis": "x",
         "y": [
          932,
          2634,
          856,
          2736,
          1013,
          87,
          59,
          40,
          9,
          null,
          null
         ],
         "yaxis": "y"
        },
        {
         "legendgroup": "group1",
         "marker": {
          "color": "rgb(56, 166, 165)"
         },
         "name": "36-48 Months",
         "type": "bar",
         "x": [
          "PDC_E",
          "PDC",
          "Direct Debit",
          "Billed",
          "ECS",
          "Auto Debit",
          "SI Reject",
          "ECS Reject",
          "Cheque",
          "PDC Reject",
          "Escrow"
         ],
         "xaxis": "x",
         "y": [
          116,
          656,
          1199,
          263,
          1288,
          27,
          66,
          21,
          20,
          null,
          null
         ],
         "yaxis": "y"
        },
        {
         "legendgroup": "group1",
         "marker": {
          "color": "rgb(15, 133, 84)"
         },
         "name": "30-36 Months",
         "type": "bar",
         "x": [
          "PDC_E",
          "PDC",
          "Direct Debit",
          "Billed",
          "ECS",
          "Auto Debit",
          "SI Reject",
          "ECS Reject",
          "Cheque",
          "PDC Reject",
          "Escrow"
         ],
         "xaxis": "x",
         "y": [
          47,
          259,
          1299,
          82,
          1330,
          8,
          9,
          3,
          24,
          null,
          1
         ],
         "yaxis": "y"
        },
        {
         "legendgroup": "group1",
         "marker": {
          "color": "rgb(115, 175, 72)"
         },
         "name": "24-30 Months",
         "type": "bar",
         "x": [
          "PDC_E",
          "PDC",
          "Direct Debit",
          "Billed",
          "ECS",
          "Auto Debit",
          "SI Reject",
          "ECS Reject",
          "Cheque",
          "PDC Reject",
          "Escrow"
         ],
         "xaxis": "x",
         "y": [
          45,
          205,
          1573,
          65,
          1561,
          6,
          17,
          5,
          15,
          null,
          null
         ],
         "yaxis": "y"
        },
        {
         "legendgroup": "group1",
         "marker": {
          "color": "rgb(237, 173, 8)"
         },
         "name": "18-24 Months",
         "type": "bar",
         "x": [
          "PDC_E",
          "PDC",
          "Direct Debit",
          "Billed",
          "ECS",
          "Auto Debit",
          "SI Reject",
          "ECS Reject",
          "Cheque",
          "PDC Reject",
          "Escrow"
         ],
         "xaxis": "x",
         "y": [
          44,
          133,
          1079,
          62,
          1026,
          6,
          4,
          2,
          11,
          null,
          1
         ],
         "yaxis": "y"
        },
        {
         "legendgroup": "group1",
         "marker": {
          "color": "rgb(225, 124, 5)"
         },
         "name": "12-18 Months",
         "type": "bar",
         "x": [
          "PDC_E",
          "PDC",
          "Direct Debit",
          "Billed",
          "ECS",
          "Auto Debit",
          "SI Reject",
          "ECS Reject",
          "Cheque",
          "PDC Reject",
          "Escrow"
         ],
         "xaxis": "x",
         "y": [
          25,
          91,
          445,
          63,
          391,
          9,
          3,
          null,
          7,
          null,
          null
         ],
         "yaxis": "y"
        },
        {
         "legendgroup": "group1",
         "marker": {
          "color": "rgb(95, 70, 144)"
         },
         "name": "PDC_E",
         "showlegend": false,
         "type": "bar",
         "x": [
          "No Top-up Service",
          " > 48 Months",
          "36-48 Months",
          "30-36 Months",
          "24-30 Months",
          "18-24 Months",
          "12-18 Months"
         ],
         "xaxis": "x3",
         "y": [
          8728,
          932,
          116,
          47,
          45,
          44,
          25
         ],
         "yaxis": "y3"
        },
        {
         "legendgroup": "group1",
         "marker": {
          "color": "rgb(29, 105, 150)"
         },
         "name": "PDC",
         "showlegend": false,
         "type": "bar",
         "x": [
          "No Top-up Service",
          " > 48 Months",
          "36-48 Months",
          "30-36 Months",
          "24-30 Months",
          "18-24 Months",
          "12-18 Months"
         ],
         "xaxis": "x3",
         "y": [
          22639,
          2634,
          656,
          259,
          205,
          133,
          91
         ],
         "yaxis": "y3"
        },
        {
         "legendgroup": "group1",
         "marker": {
          "color": "rgb(95, 70, 144)"
         },
         "name": "Direct Debit",
         "showlegend": false,
         "type": "bar",
         "x": [
          "No Top-up Service",
          " > 48 Months",
          "36-48 Months",
          "30-36 Months",
          "24-30 Months",
          "18-24 Months",
          "12-18 Months"
         ],
         "xaxis": "x3",
         "y": [
          25315,
          856,
          1199,
          1299,
          1573,
          1079,
          445
         ],
         "yaxis": "y3"
        },
        {
         "legendgroup": "group1",
         "marker": {
          "color": "rgb(29, 105, 150)"
         },
         "name": "Billed",
         "showlegend": false,
         "type": "bar",
         "x": [
          "No Top-up Service",
          " > 48 Months",
          "36-48 Months",
          "30-36 Months",
          "24-30 Months",
          "18-24 Months",
          "12-18 Months"
         ],
         "xaxis": "x3",
         "y": [
          23215,
          2736,
          263,
          82,
          65,
          62,
          63
         ],
         "yaxis": "y3"
        },
        {
         "legendgroup": "group1",
         "marker": {
          "color": "rgb(95, 70, 144)"
         },
         "name": "ECS",
         "showlegend": false,
         "type": "bar",
         "x": [
          "No Top-up Service",
          " > 48 Months",
          "36-48 Months",
          "30-36 Months",
          "24-30 Months",
          "18-24 Months",
          "12-18 Months"
         ],
         "xaxis": "x3",
         "y": [
          24781,
          1013,
          1288,
          1330,
          1561,
          1026,
          391
         ],
         "yaxis": "y3"
        },
        {
         "legendgroup": "group1",
         "marker": {
          "color": "rgb(29, 105, 150)"
         },
         "name": "Auto Debit",
         "showlegend": false,
         "type": "bar",
         "x": [
          "No Top-up Service",
          " > 48 Months",
          "36-48 Months",
          "30-36 Months",
          "24-30 Months",
          "18-24 Months",
          "12-18 Months"
         ],
         "xaxis": "x3",
         "y": [
          700,
          87,
          27,
          8,
          6,
          6,
          9
         ],
         "yaxis": "y3"
        },
        {
         "legendgroup": "group1",
         "marker": {
          "color": "rgb(95, 70, 144)"
         },
         "name": "SI Reject",
         "showlegend": false,
         "type": "bar",
         "x": [
          "No Top-up Service",
          " > 48 Months",
          "36-48 Months",
          "30-36 Months",
          "24-30 Months",
          "18-24 Months",
          "12-18 Months"
         ],
         "xaxis": "x3",
         "y": [
          586,
          59,
          66,
          9,
          17,
          4,
          3
         ],
         "yaxis": "y3"
        },
        {
         "legendgroup": "group1",
         "marker": {
          "color": "rgb(29, 105, 150)"
         },
         "name": "ECS Reject",
         "showlegend": false,
         "type": "bar",
         "x": [
          "No Top-up Service",
          " > 48 Months",
          "36-48 Months",
          "30-36 Months",
          "24-30 Months",
          "18-24 Months",
          "12-18 Months"
         ],
         "xaxis": "x3",
         "y": [
          346,
          40,
          21,
          3,
          5,
          2,
          null
         ],
         "yaxis": "y3"
        },
        {
         "legendgroup": "group1",
         "marker": {
          "color": "rgb(95, 70, 144)"
         },
         "name": "Cheque",
         "showlegend": false,
         "type": "bar",
         "x": [
          "No Top-up Service",
          " > 48 Months",
          "36-48 Months",
          "30-36 Months",
          "24-30 Months",
          "18-24 Months",
          "12-18 Months"
         ],
         "xaxis": "x3",
         "y": [
          356,
          9,
          20,
          24,
          15,
          11,
          7
         ],
         "yaxis": "y3"
        },
        {
         "legendgroup": "group1",
         "marker": {
          "color": "rgb(29, 105, 150)"
         },
         "name": "PDC Reject",
         "showlegend": false,
         "type": "bar",
         "x": [
          "No Top-up Service",
          " > 48 Months",
          "36-48 Months",
          "30-36 Months",
          "24-30 Months",
          "18-24 Months",
          "12-18 Months"
         ],
         "xaxis": "x3",
         "y": [
          6,
          null,
          null,
          null,
          null,
          null,
          null
         ],
         "yaxis": "y3"
        },
        {
         "legendgroup": "group1",
         "marker": {
          "color": "rgb(95, 70, 144)"
         },
         "name": "Escrow",
         "showlegend": false,
         "type": "bar",
         "x": [
          "No Top-up Service",
          " > 48 Months",
          "36-48 Months",
          "30-36 Months",
          "24-30 Months",
          "18-24 Months",
          "12-18 Months"
         ],
         "xaxis": "x3",
         "y": [
          5,
          null,
          null,
          1,
          null,
          1,
          null
         ],
         "yaxis": "y3"
        },
        {
         "domain": {
          "x": [
           0.7545454545454545,
           1
          ],
          "y": [
           0,
           0.425
          ]
         },
         "labels": [
          "PDC_E",
          "PDC",
          "Direct Debit",
          "Billed",
          "ECS",
          "Auto Debit",
          "SI Reject",
          "ECS Reject",
          "Cheque",
          "PDC Reject",
          "Escrow"
         ],
         "legendgroup": "group2",
         "marker": {
          "colors": [
           "rgb(95, 70, 144)",
           "rgb(29, 105, 150)",
           "rgb(56, 166, 165)",
           "rgb(15, 133, 84)",
           "rgb(115, 175, 72)",
           "rgb(237, 173, 8)",
           "rgb(225, 124, 5)",
           "rgb(204, 80, 62)",
           "rgb(148, 52, 110)",
           "rgb(111, 64, 112)",
           "rgb(102, 102, 102)"
          ]
         },
         "type": "pie",
         "values": [
          9937,
          26617,
          31766,
          26486,
          31390,
          843,
          744,
          417,
          442,
          6,
          7
         ]
        }
       ],
       "layout": {
        "barmode": "group",
        "height": 800,
        "legend": {
         "tracegroupgap": 250
        },
        "template": {
         "data": {
          "bar": [
           {
            "error_x": {
             "color": "#2a3f5f"
            },
            "error_y": {
             "color": "#2a3f5f"
            },
            "marker": {
             "line": {
              "color": "#E5ECF6",
              "width": 0.5
             }
            },
            "type": "bar"
           }
          ],
          "barpolar": [
           {
            "marker": {
             "line": {
              "color": "#E5ECF6",
              "width": 0.5
             }
            },
            "type": "barpolar"
           }
          ],
          "carpet": [
           {
            "aaxis": {
             "endlinecolor": "#2a3f5f",
             "gridcolor": "white",
             "linecolor": "white",
             "minorgridcolor": "white",
             "startlinecolor": "#2a3f5f"
            },
            "baxis": {
             "endlinecolor": "#2a3f5f",
             "gridcolor": "white",
             "linecolor": "white",
             "minorgridcolor": "white",
             "startlinecolor": "#2a3f5f"
            },
            "type": "carpet"
           }
          ],
          "choropleth": [
           {
            "colorbar": {
             "outlinewidth": 0,
             "ticks": ""
            },
            "type": "choropleth"
           }
          ],
          "contour": [
           {
            "colorbar": {
             "outlinewidth": 0,
             "ticks": ""
            },
            "colorscale": [
             [
              0,
              "#0d0887"
             ],
             [
              0.1111111111111111,
              "#46039f"
             ],
             [
              0.2222222222222222,
              "#7201a8"
             ],
             [
              0.3333333333333333,
              "#9c179e"
             ],
             [
              0.4444444444444444,
              "#bd3786"
             ],
             [
              0.5555555555555556,
              "#d8576b"
             ],
             [
              0.6666666666666666,
              "#ed7953"
             ],
             [
              0.7777777777777778,
              "#fb9f3a"
             ],
             [
              0.8888888888888888,
              "#fdca26"
             ],
             [
              1,
              "#f0f921"
             ]
            ],
            "type": "contour"
           }
          ],
          "contourcarpet": [
           {
            "colorbar": {
             "outlinewidth": 0,
             "ticks": ""
            },
            "type": "contourcarpet"
           }
          ],
          "heatmap": [
           {
            "colorbar": {
             "outlinewidth": 0,
             "ticks": ""
            },
            "colorscale": [
             [
              0,
              "#0d0887"
             ],
             [
              0.1111111111111111,
              "#46039f"
             ],
             [
              0.2222222222222222,
              "#7201a8"
             ],
             [
              0.3333333333333333,
              "#9c179e"
             ],
             [
              0.4444444444444444,
              "#bd3786"
             ],
             [
              0.5555555555555556,
              "#d8576b"
             ],
             [
              0.6666666666666666,
              "#ed7953"
             ],
             [
              0.7777777777777778,
              "#fb9f3a"
             ],
             [
              0.8888888888888888,
              "#fdca26"
             ],
             [
              1,
              "#f0f921"
             ]
            ],
            "type": "heatmap"
           }
          ],
          "heatmapgl": [
           {
            "colorbar": {
             "outlinewidth": 0,
             "ticks": ""
            },
            "colorscale": [
             [
              0,
              "#0d0887"
             ],
             [
              0.1111111111111111,
              "#46039f"
             ],
             [
              0.2222222222222222,
              "#7201a8"
             ],
             [
              0.3333333333333333,
              "#9c179e"
             ],
             [
              0.4444444444444444,
              "#bd3786"
             ],
             [
              0.5555555555555556,
              "#d8576b"
             ],
             [
              0.6666666666666666,
              "#ed7953"
             ],
             [
              0.7777777777777778,
              "#fb9f3a"
             ],
             [
              0.8888888888888888,
              "#fdca26"
             ],
             [
              1,
              "#f0f921"
             ]
            ],
            "type": "heatmapgl"
           }
          ],
          "histogram": [
           {
            "marker": {
             "colorbar": {
              "outlinewidth": 0,
              "ticks": ""
             }
            },
            "type": "histogram"
           }
          ],
          "histogram2d": [
           {
            "colorbar": {
             "outlinewidth": 0,
             "ticks": ""
            },
            "colorscale": [
             [
              0,
              "#0d0887"
             ],
             [
              0.1111111111111111,
              "#46039f"
             ],
             [
              0.2222222222222222,
              "#7201a8"
             ],
             [
              0.3333333333333333,
              "#9c179e"
             ],
             [
              0.4444444444444444,
              "#bd3786"
             ],
             [
              0.5555555555555556,
              "#d8576b"
             ],
             [
              0.6666666666666666,
              "#ed7953"
             ],
             [
              0.7777777777777778,
              "#fb9f3a"
             ],
             [
              0.8888888888888888,
              "#fdca26"
             ],
             [
              1,
              "#f0f921"
             ]
            ],
            "type": "histogram2d"
           }
          ],
          "histogram2dcontour": [
           {
            "colorbar": {
             "outlinewidth": 0,
             "ticks": ""
            },
            "colorscale": [
             [
              0,
              "#0d0887"
             ],
             [
              0.1111111111111111,
              "#46039f"
             ],
             [
              0.2222222222222222,
              "#7201a8"
             ],
             [
              0.3333333333333333,
              "#9c179e"
             ],
             [
              0.4444444444444444,
              "#bd3786"
             ],
             [
              0.5555555555555556,
              "#d8576b"
             ],
             [
              0.6666666666666666,
              "#ed7953"
             ],
             [
              0.7777777777777778,
              "#fb9f3a"
             ],
             [
              0.8888888888888888,
              "#fdca26"
             ],
             [
              1,
              "#f0f921"
             ]
            ],
            "type": "histogram2dcontour"
           }
          ],
          "mesh3d": [
           {
            "colorbar": {
             "outlinewidth": 0,
             "ticks": ""
            },
            "type": "mesh3d"
           }
          ],
          "parcoords": [
           {
            "line": {
             "colorbar": {
              "outlinewidth": 0,
              "ticks": ""
             }
            },
            "type": "parcoords"
           }
          ],
          "pie": [
           {
            "automargin": true,
            "type": "pie"
           }
          ],
          "scatter": [
           {
            "marker": {
             "colorbar": {
              "outlinewidth": 0,
              "ticks": ""
             }
            },
            "type": "scatter"
           }
          ],
          "scatter3d": [
           {
            "line": {
             "colorbar": {
              "outlinewidth": 0,
              "ticks": ""
             }
            },
            "marker": {
             "colorbar": {
              "outlinewidth": 0,
              "ticks": ""
             }
            },
            "type": "scatter3d"
           }
          ],
          "scattercarpet": [
           {
            "marker": {
             "colorbar": {
              "outlinewidth": 0,
              "ticks": ""
             }
            },
            "type": "scattercarpet"
           }
          ],
          "scattergeo": [
           {
            "marker": {
             "colorbar": {
              "outlinewidth": 0,
              "ticks": ""
             }
            },
            "type": "scattergeo"
           }
          ],
          "scattergl": [
           {
            "marker": {
             "colorbar": {
              "outlinewidth": 0,
              "ticks": ""
             }
            },
            "type": "scattergl"
           }
          ],
          "scattermapbox": [
           {
            "marker": {
             "colorbar": {
              "outlinewidth": 0,
              "ticks": ""
             }
            },
            "type": "scattermapbox"
           }
          ],
          "scatterpolar": [
           {
            "marker": {
             "colorbar": {
              "outlinewidth": 0,
              "ticks": ""
             }
            },
            "type": "scatterpolar"
           }
          ],
          "scatterpolargl": [
           {
            "marker": {
             "colorbar": {
              "outlinewidth": 0,
              "ticks": ""
             }
            },
            "type": "scatterpolargl"
           }
          ],
          "scatterternary": [
           {
            "marker": {
             "colorbar": {
              "outlinewidth": 0,
              "ticks": ""
             }
            },
            "type": "scatterternary"
           }
          ],
          "surface": [
           {
            "colorbar": {
             "outlinewidth": 0,
             "ticks": ""
            },
            "colorscale": [
             [
              0,
              "#0d0887"
             ],
             [
              0.1111111111111111,
              "#46039f"
             ],
             [
              0.2222222222222222,
              "#7201a8"
             ],
             [
              0.3333333333333333,
              "#9c179e"
             ],
             [
              0.4444444444444444,
              "#bd3786"
             ],
             [
              0.5555555555555556,
              "#d8576b"
             ],
             [
              0.6666666666666666,
              "#ed7953"
             ],
             [
              0.7777777777777778,
              "#fb9f3a"
             ],
             [
              0.8888888888888888,
              "#fdca26"
             ],
             [
              1,
              "#f0f921"
             ]
            ],
            "type": "surface"
           }
          ],
          "table": [
           {
            "cells": {
             "fill": {
              "color": "#EBF0F8"
             },
             "line": {
              "color": "white"
             }
            },
            "header": {
             "fill": {
              "color": "#C8D4E3"
             },
             "line": {
              "color": "white"
             }
            },
            "type": "table"
           }
          ]
         },
         "layout": {
          "annotationdefaults": {
           "arrowcolor": "#2a3f5f",
           "arrowhead": 0,
           "arrowwidth": 1
          },
          "autotypenumbers": "strict",
          "coloraxis": {
           "colorbar": {
            "outlinewidth": 0,
            "ticks": ""
           }
          },
          "colorscale": {
           "diverging": [
            [
             0,
             "#8e0152"
            ],
            [
             0.1,
             "#c51b7d"
            ],
            [
             0.2,
             "#de77ae"
            ],
            [
             0.3,
             "#f1b6da"
            ],
            [
             0.4,
             "#fde0ef"
            ],
            [
             0.5,
             "#f7f7f7"
            ],
            [
             0.6,
             "#e6f5d0"
            ],
            [
             0.7,
             "#b8e186"
            ],
            [
             0.8,
             "#7fbc41"
            ],
            [
             0.9,
             "#4d9221"
            ],
            [
             1,
             "#276419"
            ]
           ],
           "sequential": [
            [
             0,
             "#0d0887"
            ],
            [
             0.1111111111111111,
             "#46039f"
            ],
            [
             0.2222222222222222,
             "#7201a8"
            ],
            [
             0.3333333333333333,
             "#9c179e"
            ],
            [
             0.4444444444444444,
             "#bd3786"
            ],
            [
             0.5555555555555556,
             "#d8576b"
            ],
            [
             0.6666666666666666,
             "#ed7953"
            ],
            [
             0.7777777777777778,
             "#fb9f3a"
            ],
            [
             0.8888888888888888,
             "#fdca26"
            ],
            [
             1,
             "#f0f921"
            ]
           ],
           "sequentialminus": [
            [
             0,
             "#0d0887"
            ],
            [
             0.1111111111111111,
             "#46039f"
            ],
            [
             0.2222222222222222,
             "#7201a8"
            ],
            [
             0.3333333333333333,
             "#9c179e"
            ],
            [
             0.4444444444444444,
             "#bd3786"
            ],
            [
             0.5555555555555556,
             "#d8576b"
            ],
            [
             0.6666666666666666,
             "#ed7953"
            ],
            [
             0.7777777777777778,
             "#fb9f3a"
            ],
            [
             0.8888888888888888,
             "#fdca26"
            ],
            [
             1,
             "#f0f921"
            ]
           ]
          },
          "colorway": [
           "#636efa",
           "#EF553B",
           "#00cc96",
           "#ab63fa",
           "#FFA15A",
           "#19d3f3",
           "#FF6692",
           "#B6E880",
           "#FF97FF",
           "#FECB52"
          ],
          "font": {
           "color": "#2a3f5f"
          },
          "geo": {
           "bgcolor": "white",
           "lakecolor": "white",
           "landcolor": "#E5ECF6",
           "showlakes": true,
           "showland": true,
           "subunitcolor": "white"
          },
          "hoverlabel": {
           "align": "left"
          },
          "hovermode": "closest",
          "mapbox": {
           "style": "light"
          },
          "paper_bgcolor": "white",
          "plot_bgcolor": "#E5ECF6",
          "polar": {
           "angularaxis": {
            "gridcolor": "white",
            "linecolor": "white",
            "ticks": ""
           },
           "bgcolor": "#E5ECF6",
           "radialaxis": {
            "gridcolor": "white",
            "linecolor": "white",
            "ticks": ""
           }
          },
          "scene": {
           "xaxis": {
            "backgroundcolor": "#E5ECF6",
            "gridcolor": "white",
            "gridwidth": 2,
            "linecolor": "white",
            "showbackground": true,
            "ticks": "",
            "zerolinecolor": "white"
           },
           "yaxis": {
            "backgroundcolor": "#E5ECF6",
            "gridcolor": "white",
            "gridwidth": 2,
            "linecolor": "white",
            "showbackground": true,
            "ticks": "",
            "zerolinecolor": "white"
           },
           "zaxis": {
            "backgroundcolor": "#E5ECF6",
            "gridcolor": "white",
            "gridwidth": 2,
            "linecolor": "white",
            "showbackground": true,
            "ticks": "",
            "zerolinecolor": "white"
           }
          },
          "shapedefaults": {
           "line": {
            "color": "#2a3f5f"
           }
          },
          "ternary": {
           "aaxis": {
            "gridcolor": "white",
            "linecolor": "white",
            "ticks": ""
           },
           "baxis": {
            "gridcolor": "white",
            "linecolor": "white",
            "ticks": ""
           },
           "bgcolor": "#E5ECF6",
           "caxis": {
            "gridcolor": "white",
            "linecolor": "white",
            "ticks": ""
           }
          },
          "title": {
           "x": 0.05
          },
          "xaxis": {
           "automargin": true,
           "gridcolor": "white",
           "linecolor": "white",
           "ticks": "",
           "title": {
            "standoff": 15
           },
           "zerolinecolor": "white",
           "zerolinewidth": 2
          },
          "yaxis": {
           "automargin": true,
           "gridcolor": "white",
           "linecolor": "white",
           "ticks": "",
           "title": {
            "standoff": 15
           },
           "zerolinecolor": "white",
           "zerolinewidth": 2
          }
         }
        },
        "title": {
         "text": "PaymentMode vizualization based on Top-up Month"
        },
        "xaxis": {
         "anchor": "y",
         "domain": [
          0,
          1
         ]
        },
        "xaxis2": {
         "anchor": "y2",
         "domain": [
          0.7545454545454545,
          1
         ]
        },
        "xaxis3": {
         "anchor": "y3",
         "domain": [
          0,
          0.6545454545454545
         ]
        },
        "yaxis": {
         "anchor": "x",
         "domain": [
          0.575,
          1
         ]
        },
        "yaxis2": {
         "anchor": "x2",
         "domain": [
          0.575,
          1
         ]
        },
        "yaxis3": {
         "anchor": "x3",
         "domain": [
          0,
          0.425
         ]
        }
       }
      },
      "text/html": [
       "<div>                            <div id=\"c2f78f30-5cc6-44b7-a9f9-dc3dce0e84e6\" class=\"plotly-graph-div\" style=\"height:800px; width:100%;\"></div>            <script type=\"text/javascript\">                require([\"plotly\"], function(Plotly) {                    window.PLOTLYENV=window.PLOTLYENV || {};                                    if (document.getElementById(\"c2f78f30-5cc6-44b7-a9f9-dc3dce0e84e6\")) {                    Plotly.newPlot(                        \"c2f78f30-5cc6-44b7-a9f9-dc3dce0e84e6\",                        [{\"legendgroup\": \"group1\", \"marker\": {\"color\": \"rgb(95, 70, 144)\"}, \"name\": \"No Top-up Service\", \"type\": \"bar\", \"x\": [\"PDC_E\", \"PDC\", \"Direct Debit\", \"Billed\", \"ECS\", \"Auto Debit\", \"SI Reject\", \"ECS Reject\", \"Cheque\", \"PDC Reject\", \"Escrow\"], \"xaxis\": \"x\", \"y\": [8728.0, 22639.0, 25315.0, 23215.0, 24781.0, 700.0, 586.0, 346.0, 356.0, 6.0, 5.0], \"yaxis\": \"y\"}, {\"legendgroup\": \"group1\", \"marker\": {\"color\": \"rgb(29, 105, 150)\"}, \"name\": \" > 48 Months\", \"type\": \"bar\", \"x\": [\"PDC_E\", \"PDC\", \"Direct Debit\", \"Billed\", \"ECS\", \"Auto Debit\", \"SI Reject\", \"ECS Reject\", \"Cheque\", \"PDC Reject\", \"Escrow\"], \"xaxis\": \"x\", \"y\": [932.0, 2634.0, 856.0, 2736.0, 1013.0, 87.0, 59.0, 40.0, 9.0, null, null], \"yaxis\": \"y\"}, {\"legendgroup\": \"group1\", \"marker\": {\"color\": \"rgb(56, 166, 165)\"}, \"name\": \"36-48 Months\", \"type\": \"bar\", \"x\": [\"PDC_E\", \"PDC\", \"Direct Debit\", \"Billed\", \"ECS\", \"Auto Debit\", \"SI Reject\", \"ECS Reject\", \"Cheque\", \"PDC Reject\", \"Escrow\"], \"xaxis\": \"x\", \"y\": [116.0, 656.0, 1199.0, 263.0, 1288.0, 27.0, 66.0, 21.0, 20.0, null, null], \"yaxis\": \"y\"}, {\"legendgroup\": \"group1\", \"marker\": {\"color\": \"rgb(15, 133, 84)\"}, \"name\": \"30-36 Months\", \"type\": \"bar\", \"x\": [\"PDC_E\", \"PDC\", \"Direct Debit\", \"Billed\", \"ECS\", \"Auto Debit\", \"SI Reject\", \"ECS Reject\", \"Cheque\", \"PDC Reject\", \"Escrow\"], \"xaxis\": \"x\", \"y\": [47.0, 259.0, 1299.0, 82.0, 1330.0, 8.0, 9.0, 3.0, 24.0, null, 1.0], \"yaxis\": \"y\"}, {\"legendgroup\": \"group1\", \"marker\": {\"color\": \"rgb(115, 175, 72)\"}, \"name\": \"24-30 Months\", \"type\": \"bar\", \"x\": [\"PDC_E\", \"PDC\", \"Direct Debit\", \"Billed\", \"ECS\", \"Auto Debit\", \"SI Reject\", \"ECS Reject\", \"Cheque\", \"PDC Reject\", \"Escrow\"], \"xaxis\": \"x\", \"y\": [45.0, 205.0, 1573.0, 65.0, 1561.0, 6.0, 17.0, 5.0, 15.0, null, null], \"yaxis\": \"y\"}, {\"legendgroup\": \"group1\", \"marker\": {\"color\": \"rgb(237, 173, 8)\"}, \"name\": \"18-24 Months\", \"type\": \"bar\", \"x\": [\"PDC_E\", \"PDC\", \"Direct Debit\", \"Billed\", \"ECS\", \"Auto Debit\", \"SI Reject\", \"ECS Reject\", \"Cheque\", \"PDC Reject\", \"Escrow\"], \"xaxis\": \"x\", \"y\": [44.0, 133.0, 1079.0, 62.0, 1026.0, 6.0, 4.0, 2.0, 11.0, null, 1.0], \"yaxis\": \"y\"}, {\"legendgroup\": \"group1\", \"marker\": {\"color\": \"rgb(225, 124, 5)\"}, \"name\": \"12-18 Months\", \"type\": \"bar\", \"x\": [\"PDC_E\", \"PDC\", \"Direct Debit\", \"Billed\", \"ECS\", \"Auto Debit\", \"SI Reject\", \"ECS Reject\", \"Cheque\", \"PDC Reject\", \"Escrow\"], \"xaxis\": \"x\", \"y\": [25.0, 91.0, 445.0, 63.0, 391.0, 9.0, 3.0, null, 7.0, null, null], \"yaxis\": \"y\"}, {\"legendgroup\": \"group1\", \"marker\": {\"color\": \"rgb(95, 70, 144)\"}, \"name\": \"PDC_E\", \"showlegend\": false, \"type\": \"bar\", \"x\": [\"No Top-up Service\", \" > 48 Months\", \"36-48 Months\", \"30-36 Months\", \"24-30 Months\", \"18-24 Months\", \"12-18 Months\"], \"xaxis\": \"x3\", \"y\": [8728.0, 932.0, 116.0, 47.0, 45.0, 44.0, 25.0], \"yaxis\": \"y3\"}, {\"legendgroup\": \"group1\", \"marker\": {\"color\": \"rgb(29, 105, 150)\"}, \"name\": \"PDC\", \"showlegend\": false, \"type\": \"bar\", \"x\": [\"No Top-up Service\", \" > 48 Months\", \"36-48 Months\", \"30-36 Months\", \"24-30 Months\", \"18-24 Months\", \"12-18 Months\"], \"xaxis\": \"x3\", \"y\": [22639.0, 2634.0, 656.0, 259.0, 205.0, 133.0, 91.0], \"yaxis\": \"y3\"}, {\"legendgroup\": \"group1\", \"marker\": {\"color\": \"rgb(95, 70, 144)\"}, \"name\": \"Direct Debit\", \"showlegend\": false, \"type\": \"bar\", \"x\": [\"No Top-up Service\", \" > 48 Months\", \"36-48 Months\", \"30-36 Months\", \"24-30 Months\", \"18-24 Months\", \"12-18 Months\"], \"xaxis\": \"x3\", \"y\": [25315.0, 856.0, 1199.0, 1299.0, 1573.0, 1079.0, 445.0], \"yaxis\": \"y3\"}, {\"legendgroup\": \"group1\", \"marker\": {\"color\": \"rgb(29, 105, 150)\"}, \"name\": \"Billed\", \"showlegend\": false, \"type\": \"bar\", \"x\": [\"No Top-up Service\", \" > 48 Months\", \"36-48 Months\", \"30-36 Months\", \"24-30 Months\", \"18-24 Months\", \"12-18 Months\"], \"xaxis\": \"x3\", \"y\": [23215.0, 2736.0, 263.0, 82.0, 65.0, 62.0, 63.0], \"yaxis\": \"y3\"}, {\"legendgroup\": \"group1\", \"marker\": {\"color\": \"rgb(95, 70, 144)\"}, \"name\": \"ECS\", \"showlegend\": false, \"type\": \"bar\", \"x\": [\"No Top-up Service\", \" > 48 Months\", \"36-48 Months\", \"30-36 Months\", \"24-30 Months\", \"18-24 Months\", \"12-18 Months\"], \"xaxis\": \"x3\", \"y\": [24781.0, 1013.0, 1288.0, 1330.0, 1561.0, 1026.0, 391.0], \"yaxis\": \"y3\"}, {\"legendgroup\": \"group1\", \"marker\": {\"color\": \"rgb(29, 105, 150)\"}, \"name\": \"Auto Debit\", \"showlegend\": false, \"type\": \"bar\", \"x\": [\"No Top-up Service\", \" > 48 Months\", \"36-48 Months\", \"30-36 Months\", \"24-30 Months\", \"18-24 Months\", \"12-18 Months\"], \"xaxis\": \"x3\", \"y\": [700.0, 87.0, 27.0, 8.0, 6.0, 6.0, 9.0], \"yaxis\": \"y3\"}, {\"legendgroup\": \"group1\", \"marker\": {\"color\": \"rgb(95, 70, 144)\"}, \"name\": \"SI Reject\", \"showlegend\": false, \"type\": \"bar\", \"x\": [\"No Top-up Service\", \" > 48 Months\", \"36-48 Months\", \"30-36 Months\", \"24-30 Months\", \"18-24 Months\", \"12-18 Months\"], \"xaxis\": \"x3\", \"y\": [586.0, 59.0, 66.0, 9.0, 17.0, 4.0, 3.0], \"yaxis\": \"y3\"}, {\"legendgroup\": \"group1\", \"marker\": {\"color\": \"rgb(29, 105, 150)\"}, \"name\": \"ECS Reject\", \"showlegend\": false, \"type\": \"bar\", \"x\": [\"No Top-up Service\", \" > 48 Months\", \"36-48 Months\", \"30-36 Months\", \"24-30 Months\", \"18-24 Months\", \"12-18 Months\"], \"xaxis\": \"x3\", \"y\": [346.0, 40.0, 21.0, 3.0, 5.0, 2.0, null], \"yaxis\": \"y3\"}, {\"legendgroup\": \"group1\", \"marker\": {\"color\": \"rgb(95, 70, 144)\"}, \"name\": \"Cheque\", \"showlegend\": false, \"type\": \"bar\", \"x\": [\"No Top-up Service\", \" > 48 Months\", \"36-48 Months\", \"30-36 Months\", \"24-30 Months\", \"18-24 Months\", \"12-18 Months\"], \"xaxis\": \"x3\", \"y\": [356.0, 9.0, 20.0, 24.0, 15.0, 11.0, 7.0], \"yaxis\": \"y3\"}, {\"legendgroup\": \"group1\", \"marker\": {\"color\": \"rgb(29, 105, 150)\"}, \"name\": \"PDC Reject\", \"showlegend\": false, \"type\": \"bar\", \"x\": [\"No Top-up Service\", \" > 48 Months\", \"36-48 Months\", \"30-36 Months\", \"24-30 Months\", \"18-24 Months\", \"12-18 Months\"], \"xaxis\": \"x3\", \"y\": [6.0, null, null, null, null, null, null], \"yaxis\": \"y3\"}, {\"legendgroup\": \"group1\", \"marker\": {\"color\": \"rgb(95, 70, 144)\"}, \"name\": \"Escrow\", \"showlegend\": false, \"type\": \"bar\", \"x\": [\"No Top-up Service\", \" > 48 Months\", \"36-48 Months\", \"30-36 Months\", \"24-30 Months\", \"18-24 Months\", \"12-18 Months\"], \"xaxis\": \"x3\", \"y\": [5.0, null, null, 1.0, null, 1.0, null], \"yaxis\": \"y3\"}, {\"domain\": {\"x\": [0.7545454545454545, 1.0], \"y\": [0.0, 0.425]}, \"labels\": [\"PDC_E\", \"PDC\", \"Direct Debit\", \"Billed\", \"ECS\", \"Auto Debit\", \"SI Reject\", \"ECS Reject\", \"Cheque\", \"PDC Reject\", \"Escrow\"], \"legendgroup\": \"group2\", \"marker\": {\"colors\": [\"rgb(95, 70, 144)\", \"rgb(29, 105, 150)\", \"rgb(56, 166, 165)\", \"rgb(15, 133, 84)\", \"rgb(115, 175, 72)\", \"rgb(237, 173, 8)\", \"rgb(225, 124, 5)\", \"rgb(204, 80, 62)\", \"rgb(148, 52, 110)\", \"rgb(111, 64, 112)\", \"rgb(102, 102, 102)\"]}, \"type\": \"pie\", \"values\": [9937.0, 26617.0, 31766.0, 26486.0, 31390.0, 843.0, 744.0, 417.0, 442.0, 6.0, 7.0]}],                        {\"barmode\": \"group\", \"height\": 800, \"legend\": {\"tracegroupgap\": 250}, \"template\": {\"data\": {\"bar\": [{\"error_x\": {\"color\": \"#2a3f5f\"}, \"error_y\": {\"color\": \"#2a3f5f\"}, \"marker\": {\"line\": {\"color\": \"#E5ECF6\", \"width\": 0.5}}, \"type\": \"bar\"}], \"barpolar\": [{\"marker\": {\"line\": {\"color\": \"#E5ECF6\", \"width\": 0.5}}, \"type\": \"barpolar\"}], \"carpet\": [{\"aaxis\": {\"endlinecolor\": \"#2a3f5f\", \"gridcolor\": \"white\", \"linecolor\": \"white\", \"minorgridcolor\": \"white\", \"startlinecolor\": \"#2a3f5f\"}, \"baxis\": {\"endlinecolor\": \"#2a3f5f\", \"gridcolor\": \"white\", \"linecolor\": \"white\", \"minorgridcolor\": \"white\", \"startlinecolor\": \"#2a3f5f\"}, \"type\": \"carpet\"}], \"choropleth\": [{\"colorbar\": {\"outlinewidth\": 0, \"ticks\": \"\"}, \"type\": \"choropleth\"}], \"contour\": [{\"colorbar\": {\"outlinewidth\": 0, \"ticks\": \"\"}, \"colorscale\": [[0.0, \"#0d0887\"], [0.1111111111111111, \"#46039f\"], [0.2222222222222222, \"#7201a8\"], [0.3333333333333333, \"#9c179e\"], [0.4444444444444444, \"#bd3786\"], [0.5555555555555556, \"#d8576b\"], [0.6666666666666666, \"#ed7953\"], [0.7777777777777778, \"#fb9f3a\"], [0.8888888888888888, \"#fdca26\"], [1.0, \"#f0f921\"]], \"type\": \"contour\"}], \"contourcarpet\": [{\"colorbar\": {\"outlinewidth\": 0, \"ticks\": \"\"}, \"type\": \"contourcarpet\"}], \"heatmap\": [{\"colorbar\": {\"outlinewidth\": 0, \"ticks\": \"\"}, \"colorscale\": [[0.0, \"#0d0887\"], [0.1111111111111111, \"#46039f\"], [0.2222222222222222, \"#7201a8\"], [0.3333333333333333, \"#9c179e\"], [0.4444444444444444, \"#bd3786\"], [0.5555555555555556, \"#d8576b\"], [0.6666666666666666, \"#ed7953\"], [0.7777777777777778, \"#fb9f3a\"], [0.8888888888888888, \"#fdca26\"], [1.0, \"#f0f921\"]], \"type\": \"heatmap\"}], \"heatmapgl\": [{\"colorbar\": {\"outlinewidth\": 0, \"ticks\": \"\"}, \"colorscale\": [[0.0, \"#0d0887\"], [0.1111111111111111, \"#46039f\"], [0.2222222222222222, \"#7201a8\"], [0.3333333333333333, \"#9c179e\"], [0.4444444444444444, \"#bd3786\"], [0.5555555555555556, \"#d8576b\"], [0.6666666666666666, \"#ed7953\"], [0.7777777777777778, \"#fb9f3a\"], [0.8888888888888888, \"#fdca26\"], [1.0, \"#f0f921\"]], \"type\": \"heatmapgl\"}], \"histogram\": [{\"marker\": {\"colorbar\": {\"outlinewidth\": 0, \"ticks\": \"\"}}, \"type\": \"histogram\"}], \"histogram2d\": [{\"colorbar\": {\"outlinewidth\": 0, \"ticks\": \"\"}, \"colorscale\": [[0.0, \"#0d0887\"], [0.1111111111111111, \"#46039f\"], [0.2222222222222222, \"#7201a8\"], [0.3333333333333333, \"#9c179e\"], [0.4444444444444444, \"#bd3786\"], [0.5555555555555556, \"#d8576b\"], [0.6666666666666666, \"#ed7953\"], [0.7777777777777778, \"#fb9f3a\"], [0.8888888888888888, \"#fdca26\"], [1.0, \"#f0f921\"]], \"type\": \"histogram2d\"}], \"histogram2dcontour\": [{\"colorbar\": {\"outlinewidth\": 0, \"ticks\": \"\"}, \"colorscale\": [[0.0, \"#0d0887\"], [0.1111111111111111, \"#46039f\"], [0.2222222222222222, \"#7201a8\"], [0.3333333333333333, \"#9c179e\"], [0.4444444444444444, \"#bd3786\"], [0.5555555555555556, \"#d8576b\"], [0.6666666666666666, \"#ed7953\"], [0.7777777777777778, \"#fb9f3a\"], [0.8888888888888888, \"#fdca26\"], [1.0, \"#f0f921\"]], \"type\": \"histogram2dcontour\"}], \"mesh3d\": [{\"colorbar\": {\"outlinewidth\": 0, \"ticks\": \"\"}, \"type\": \"mesh3d\"}], \"parcoords\": [{\"line\": {\"colorbar\": {\"outlinewidth\": 0, \"ticks\": \"\"}}, \"type\": \"parcoords\"}], \"pie\": [{\"automargin\": true, \"type\": \"pie\"}], \"scatter\": [{\"marker\": {\"colorbar\": {\"outlinewidth\": 0, \"ticks\": \"\"}}, \"type\": \"scatter\"}], \"scatter3d\": [{\"line\": {\"colorbar\": {\"outlinewidth\": 0, \"ticks\": \"\"}}, \"marker\": {\"colorbar\": {\"outlinewidth\": 0, \"ticks\": \"\"}}, \"type\": \"scatter3d\"}], \"scattercarpet\": [{\"marker\": {\"colorbar\": {\"outlinewidth\": 0, \"ticks\": \"\"}}, \"type\": \"scattercarpet\"}], \"scattergeo\": [{\"marker\": {\"colorbar\": {\"outlinewidth\": 0, \"ticks\": \"\"}}, \"type\": \"scattergeo\"}], \"scattergl\": [{\"marker\": {\"colorbar\": {\"outlinewidth\": 0, \"ticks\": \"\"}}, \"type\": \"scattergl\"}], \"scattermapbox\": [{\"marker\": {\"colorbar\": {\"outlinewidth\": 0, \"ticks\": \"\"}}, \"type\": \"scattermapbox\"}], \"scatterpolar\": [{\"marker\": {\"colorbar\": {\"outlinewidth\": 0, \"ticks\": \"\"}}, \"type\": \"scatterpolar\"}], \"scatterpolargl\": [{\"marker\": {\"colorbar\": {\"outlinewidth\": 0, \"ticks\": \"\"}}, \"type\": \"scatterpolargl\"}], \"scatterternary\": [{\"marker\": {\"colorbar\": {\"outlinewidth\": 0, \"ticks\": \"\"}}, \"type\": \"scatterternary\"}], \"surface\": [{\"colorbar\": {\"outlinewidth\": 0, \"ticks\": \"\"}, \"colorscale\": [[0.0, \"#0d0887\"], [0.1111111111111111, \"#46039f\"], [0.2222222222222222, \"#7201a8\"], [0.3333333333333333, \"#9c179e\"], [0.4444444444444444, \"#bd3786\"], [0.5555555555555556, \"#d8576b\"], [0.6666666666666666, \"#ed7953\"], [0.7777777777777778, \"#fb9f3a\"], [0.8888888888888888, \"#fdca26\"], [1.0, \"#f0f921\"]], \"type\": \"surface\"}], \"table\": [{\"cells\": {\"fill\": {\"color\": \"#EBF0F8\"}, \"line\": {\"color\": \"white\"}}, \"header\": {\"fill\": {\"color\": \"#C8D4E3\"}, \"line\": {\"color\": \"white\"}}, \"type\": \"table\"}]}, \"layout\": {\"annotationdefaults\": {\"arrowcolor\": \"#2a3f5f\", \"arrowhead\": 0, \"arrowwidth\": 1}, \"autotypenumbers\": \"strict\", \"coloraxis\": {\"colorbar\": {\"outlinewidth\": 0, \"ticks\": \"\"}}, \"colorscale\": {\"diverging\": [[0, \"#8e0152\"], [0.1, \"#c51b7d\"], [0.2, \"#de77ae\"], [0.3, \"#f1b6da\"], [0.4, \"#fde0ef\"], [0.5, \"#f7f7f7\"], [0.6, \"#e6f5d0\"], [0.7, \"#b8e186\"], [0.8, \"#7fbc41\"], [0.9, \"#4d9221\"], [1, \"#276419\"]], \"sequential\": [[0.0, \"#0d0887\"], [0.1111111111111111, \"#46039f\"], [0.2222222222222222, \"#7201a8\"], [0.3333333333333333, \"#9c179e\"], [0.4444444444444444, \"#bd3786\"], [0.5555555555555556, \"#d8576b\"], [0.6666666666666666, \"#ed7953\"], [0.7777777777777778, \"#fb9f3a\"], [0.8888888888888888, \"#fdca26\"], [1.0, \"#f0f921\"]], \"sequentialminus\": [[0.0, \"#0d0887\"], [0.1111111111111111, \"#46039f\"], [0.2222222222222222, \"#7201a8\"], [0.3333333333333333, \"#9c179e\"], [0.4444444444444444, \"#bd3786\"], [0.5555555555555556, \"#d8576b\"], [0.6666666666666666, \"#ed7953\"], [0.7777777777777778, \"#fb9f3a\"], [0.8888888888888888, \"#fdca26\"], [1.0, \"#f0f921\"]]}, \"colorway\": [\"#636efa\", \"#EF553B\", \"#00cc96\", \"#ab63fa\", \"#FFA15A\", \"#19d3f3\", \"#FF6692\", \"#B6E880\", \"#FF97FF\", \"#FECB52\"], \"font\": {\"color\": \"#2a3f5f\"}, \"geo\": {\"bgcolor\": \"white\", \"lakecolor\": \"white\", \"landcolor\": \"#E5ECF6\", \"showlakes\": true, \"showland\": true, \"subunitcolor\": \"white\"}, \"hoverlabel\": {\"align\": \"left\"}, \"hovermode\": \"closest\", \"mapbox\": {\"style\": \"light\"}, \"paper_bgcolor\": \"white\", \"plot_bgcolor\": \"#E5ECF6\", \"polar\": {\"angularaxis\": {\"gridcolor\": \"white\", \"linecolor\": \"white\", \"ticks\": \"\"}, \"bgcolor\": \"#E5ECF6\", \"radialaxis\": {\"gridcolor\": \"white\", \"linecolor\": \"white\", \"ticks\": \"\"}}, \"scene\": {\"xaxis\": {\"backgroundcolor\": \"#E5ECF6\", \"gridcolor\": \"white\", \"gridwidth\": 2, \"linecolor\": \"white\", \"showbackground\": true, \"ticks\": \"\", \"zerolinecolor\": \"white\"}, \"yaxis\": {\"backgroundcolor\": \"#E5ECF6\", \"gridcolor\": \"white\", \"gridwidth\": 2, \"linecolor\": \"white\", \"showbackground\": true, \"ticks\": \"\", \"zerolinecolor\": \"white\"}, \"zaxis\": {\"backgroundcolor\": \"#E5ECF6\", \"gridcolor\": \"white\", \"gridwidth\": 2, \"linecolor\": \"white\", \"showbackground\": true, \"ticks\": \"\", \"zerolinecolor\": \"white\"}}, \"shapedefaults\": {\"line\": {\"color\": \"#2a3f5f\"}}, \"ternary\": {\"aaxis\": {\"gridcolor\": \"white\", \"linecolor\": \"white\", \"ticks\": \"\"}, \"baxis\": {\"gridcolor\": \"white\", \"linecolor\": \"white\", \"ticks\": \"\"}, \"bgcolor\": \"#E5ECF6\", \"caxis\": {\"gridcolor\": \"white\", \"linecolor\": \"white\", \"ticks\": \"\"}}, \"title\": {\"x\": 0.05}, \"xaxis\": {\"automargin\": true, \"gridcolor\": \"white\", \"linecolor\": \"white\", \"ticks\": \"\", \"title\": {\"standoff\": 15}, \"zerolinecolor\": \"white\", \"zerolinewidth\": 2}, \"yaxis\": {\"automargin\": true, \"gridcolor\": \"white\", \"linecolor\": \"white\", \"ticks\": \"\", \"title\": {\"standoff\": 15}, \"zerolinecolor\": \"white\", \"zerolinewidth\": 2}}}, \"title\": {\"text\": \"PaymentMode vizualization based on Top-up Month\"}, \"xaxis\": {\"anchor\": \"y\", \"domain\": [0.0, 1.0]}, \"xaxis2\": {\"anchor\": \"y2\", \"domain\": [0.7545454545454545, 1.0]}, \"xaxis3\": {\"anchor\": \"y3\", \"domain\": [0.0, 0.6545454545454545]}, \"yaxis\": {\"anchor\": \"x\", \"domain\": [0.575, 1.0]}, \"yaxis2\": {\"anchor\": \"x2\", \"domain\": [0.575, 1.0]}, \"yaxis3\": {\"anchor\": \"x3\", \"domain\": [0.0, 0.425]}},                        {\"responsive\": true}                    ).then(function(){\n",
       "                            \n",
       "var gd = document.getElementById('c2f78f30-5cc6-44b7-a9f9-dc3dce0e84e6');\n",
       "var x = new MutationObserver(function (mutations, observer) {{\n",
       "        var display = window.getComputedStyle(gd).display;\n",
       "        if (!display || display === 'none') {{\n",
       "            console.log([gd, 'removed!']);\n",
       "            Plotly.purge(gd);\n",
       "            observer.disconnect();\n",
       "        }}\n",
       "}});\n",
       "\n",
       "// Listen for the removal of the full notebook cells\n",
       "var notebookContainer = gd.closest('#notebook-container');\n",
       "if (notebookContainer) {{\n",
       "    x.observe(notebookContainer, {childList: true});\n",
       "}}\n",
       "\n",
       "// Listen for the clearing of the current output cell\n",
       "var outputEl = gd.closest('.output');\n",
       "if (outputEl) {{\n",
       "    x.observe(outputEl, {childList: true});\n",
       "}}\n",
       "\n",
       "                        })                };                });            </script>        </div>"
      ]
     },
     "metadata": {},
     "output_type": "display_data"
    }
   ],
   "source": [
    "draw_plots_categorical('PaymentMode','Top-up Month',df)"
   ]
  }
 ],
 "metadata": {
  "kernelspec": {
   "display_name": "Python 3",
   "language": "python",
   "name": "python3"
  },
  "language_info": {
   "codemirror_mode": {
    "name": "ipython",
    "version": 3
   },
   "file_extension": ".py",
   "mimetype": "text/x-python",
   "name": "python",
   "nbconvert_exporter": "python",
   "pygments_lexer": "ipython3",
   "version": "3.8.5"
  },
  "toc": {
   "base_numbering": 1,
   "nav_menu": {},
   "number_sections": true,
   "sideBar": true,
   "skip_h1_title": false,
   "title_cell": "Table of Contents",
   "title_sidebar": "Contents",
   "toc_cell": false,
   "toc_position": {},
   "toc_section_display": true,
   "toc_window_display": false
  }
 },
 "nbformat": 4,
 "nbformat_minor": 4
}
