{
 "cells": [
  {
   "cell_type": "markdown",
   "metadata": {},
   "source": [
    "## Analytics Vidya LTFS FinHack 3\n",
    "About this data\n",
    "\n",
    "LTFS provides it’s loan services to its customers and is interested in selling more of its Top-up loan services to its existing customers.\n",
    "\n",
    "Develop a model for the interesting business challenge ‘Upsell Predictions'\n",
    "Content\n",
    "\n",
    "    Customer’s Demographics: The demography table along with the target variable & demographic information contains variables related to Frequency of the loan, Tenure of the loan, Disbursal Amount for a loan & LTV.\n",
    "\n",
    "    Bureau data: Bureau data contains the behavioural and transactional attributes of the customers like current balance, Loan Amount, Overdue etc. for various tradelines of a given customer\n",
    " Business Objective: Predict when to pitch a Top-up during the original loan tenure.\\\n",
    " Problem Statement: It's multilabel classification.\n",
    "\n"
   ]
  },
  {
   "cell_type": "code",
   "execution_count": 205,
   "metadata": {
    "ExecuteTime": {
     "end_time": "2021-04-26T17:39:51.046856Z",
     "start_time": "2021-04-26T17:39:51.041257Z"
    }
   },
   "outputs": [],
   "source": [
    "import pandas as pd\n",
    "import pandas_profiling as pdp\n",
    "import os\n",
    "import numpy as np\n",
    "from zipfile import ZipFile\n",
    "import re,gc\n",
    "import plotly.express as px\n",
    "import plotly\n",
    "import plotly.graph_objects as go\n",
    "from plotly.subplots import make_subplots\n",
    "import prince\n",
    "from category_encoders import wrapper,target_encoder\n",
    "from scipy.stats import boxcox_normmax,norm,kurtosis, skew\n",
    "from scipy.special import boxcox1p\n",
    "from sklearn.base import BaseEstimator, TransformerMixin\n",
    "from sklearn.compose import ColumnTransformer\n",
    "from sklearn.pipeline import Pipeline\n",
    "from sklearn.impute import SimpleImputer\n",
    "from optbinning import BinningProcess\n",
    "from sklearn.preprocessing import OneHotEncoder,StandardScaler,Normalizer"
   ]
  },
  {
   "cell_type": "code",
   "execution_count": 30,
   "metadata": {
    "ExecuteTime": {
     "end_time": "2021-04-26T16:57:41.584851Z",
     "start_time": "2021-04-26T16:57:41.579892Z"
    }
   },
   "outputs": [],
   "source": [
    "def load_data(zip_fn):\n",
    "    zf = ZipFile(zip_fn)\n",
    "    filenames = [i for i in zf.namelist() if re.match('.*(?<!submission\\.)csv$',i)]\n",
    "    return [pd.read_csv(zf.open(filename)) for filename in filenames]"
   ]
  },
  {
   "cell_type": "code",
   "execution_count": 176,
   "metadata": {
    "ExecuteTime": {
     "end_time": "2021-04-26T17:32:26.215744Z",
     "start_time": "2021-04-26T17:32:21.485523Z"
    }
   },
   "outputs": [],
   "source": [
    "demographics_dictionary,test,test_bureau,train,train_bureau =load_data('data.zip')"
   ]
  },
  {
   "cell_type": "code",
   "execution_count": 177,
   "metadata": {
    "ExecuteTime": {
     "end_time": "2021-04-26T17:32:28.239543Z",
     "start_time": "2021-04-26T17:32:26.217623Z"
    }
   },
   "outputs": [
    {
     "data": {
      "text/plain": [
       "66475"
      ]
     },
     "execution_count": 177,
     "metadata": {},
     "output_type": "execute_result"
    }
   ],
   "source": [
    "train = train.drop_duplicates()\n",
    "test  = test.drop_duplicates()\n",
    "train_bureau = train_bureau.drop_duplicates()\n",
    "test_bureau  = test_bureau.drop_duplicates()\n",
    "df = pd.concat([train,test])\n",
    "bureau = pd.concat([train_bureau, test_bureau])\n",
    "del train_bureau,test_bureau,train,test\n",
    "gc.collect()"
   ]
  },
  {
   "cell_type": "code",
   "execution_count": 178,
   "metadata": {
    "ExecuteTime": {
     "end_time": "2021-04-26T17:32:28.245162Z",
     "start_time": "2021-04-26T17:32:28.241874Z"
    }
   },
   "outputs": [],
   "source": [
    "cat_attr = ['Frequency','InstlmentMode','LoanStatus','PaymentMode','BranchID','Area','ManufacturerID','SupplierID','SEX','City','State','ZiPCODE','Maturity_year','Disbursal_year','Auth_year','Top-up Month']"
   ]
  },
  {
   "cell_type": "code",
   "execution_count": 201,
   "metadata": {
    "ExecuteTime": {
     "end_time": "2021-04-26T17:38:22.329000Z",
     "start_time": "2021-04-26T17:38:22.324885Z"
    }
   },
   "outputs": [],
   "source": [
    "high_cardinality_cat_attr = ['BranchID','Area','SupplierID','City','ZiPCODE']\n",
    "cat_attr = list(set(cat_attr) - set(high_cardinality_cat_attr))"
   ]
  },
  {
   "cell_type": "code",
   "execution_count": 179,
   "metadata": {
    "ExecuteTime": {
     "end_time": "2021-04-26T17:32:29.573480Z",
     "start_time": "2021-04-26T17:32:29.570712Z"
    }
   },
   "outputs": [],
   "source": [
    "num_attr = list(set(df.columns) - set(cat_attr) - set(date_attr) - set(['AuthDate','DisbursalDate','MaturityDAte','AssetID','ID']))"
   ]
  },
  {
   "cell_type": "markdown",
   "metadata": {},
   "source": [
    "Let's do some magic with cyclical features. The explanation with some deeper insight can be found in <a href=\"http://blog.davidkaleko.com/feature-engineering-cyclical-features.html\">here</a>\n",
    "."
   ]
  },
  {
   "cell_type": "code",
   "execution_count": 180,
   "metadata": {
    "ExecuteTime": {
     "end_time": "2021-04-26T17:32:30.636742Z",
     "start_time": "2021-04-26T17:32:30.346212Z"
    }
   },
   "outputs": [],
   "source": [
    "date_attr = ['AuthDate','DisbursalDate','MaturityDAte']\n",
    "for i in date_attr:\n",
    "    df.loc[:,i] = pd.to_datetime(df[i])\n",
    "    df[f'{i[:-4]}'+'_day_sin'] =  np.sin((df[i].dt.day-1)*(2.*np.pi/31))\n",
    "    df[f'{i[:-4]}'+'_day_cos'] = np.cos((df[i].dt.day-1)*(2.*np.pi/31))\n",
    "    df[f'{i[:-4]}'+'_month_sin'] = np.sin((df[i].dt.month-1)*(2.*np.pi/12))\n",
    "    df[f'{i[:-4]}'+'_month_cos'] = np.cos((df[i].dt.month-1)*(2.*np.pi/12))\n",
    "    df[f'{i[:-4]}'+'_year'] = df[i].dt.year\n",
    "df['loan_approval_days'] = (df['AuthDate'] - df['DisbursalDate']).dt.days\n",
    "df['loan_period'] = (df['MaturityDAte'] - df['DisbursalDate']).dt.days\n",
    "df.drop(['AuthDate','DisbursalDate','MaturityDAte','AssetID'],axis=1,inplace=True)"
   ]
  },
  {
   "cell_type": "code",
   "execution_count": 181,
   "metadata": {
    "ExecuteTime": {
     "end_time": "2021-04-26T17:32:30.671276Z",
     "start_time": "2021-04-26T17:32:30.668285Z"
    }
   },
   "outputs": [],
   "source": [
    "def draw_plots_categorical(grouped_by,target,df,percentage_threshold):\n",
    "    temp = pd.DataFrame()\n",
    "    unique = pd.unique(df[grouped_by].dropna())\n",
    "    for attr in unique:\n",
    "        temp[attr] = df[df[grouped_by]==attr][target].value_counts()\n",
    "    columns = dict(zip(list(range(len(temp.columns))),temp.columns))\n",
    "    temp = temp.rename(columns=columns)\n",
    "    return get_plots_categorical(temp,grouped_by,target,percentage_threshold)\n"
   ]
  },
  {
   "cell_type": "code",
   "execution_count": 182,
   "metadata": {
    "ExecuteTime": {
     "end_time": "2021-04-26T17:32:30.954354Z",
     "start_time": "2021-04-26T17:32:30.945374Z"
    }
   },
   "outputs": [],
   "source": [
    "def get_plots_categorical(temp,attribute,target,percentage_threshold):\n",
    "    fig = make_subplots(rows=2, cols=2, column_widths=[0.8, 0.3],\n",
    "                    specs=[[ {\"colspan\": 2},{}],\n",
    "                        [{\"type\": \"xy\"}, {\"type\": \"pie\"}]])\n",
    "    pie_temp = temp.sum()\n",
    "    probs = pie_temp/sum(pie_temp)*100\n",
    "    thresh_temp = probs[probs>=percentage_threshold]\n",
    "    other = probs[probs<percentage_threshold]\n",
    "    if other.size >1:\n",
    "        thresh_temp['other'] = sum(other)\n",
    "        temp['other'] = temp.loc[:,other.index].sum(axis=1)\n",
    "        temp.drop(other.index,axis = 1,inplace=True)\n",
    "    else:\n",
    "        thresh_temp = probs\n",
    "    for counter,i in enumerate(temp.index):\n",
    "        fig.add_trace(go.Bar(y=temp[temp.index==i].values[0],x=temp.columns,name=i,\n",
    "                         legendgroup='group1',marker_color=px.colors.qualitative.Prism[counter]), row=1, col=1)\n",
    "    temp = temp.T\n",
    "    for counter,i in enumerate(temp.index):\n",
    "        fig.add_trace(go.Bar(y=temp[temp.index==i].values[0],x=temp.columns,name=i,\n",
    "                    legendgroup='group1',showlegend=False,marker_color=px.colors.qualitative.Prism[counter%2]), row=2, col=1)\n",
    "    fig.add_trace(go.Pie(labels=thresh_temp.index,values=thresh_temp,legendgroup='group2',marker=dict(colors= px.colors.qualitative.Prism)),row =2,col=2)\n",
    "    fig.layout.update(barmode='group',\n",
    "        height=800, legend=dict(tracegroupgap = 250),title=f'{attribute} vizualization based on {target}')\n",
    "    fig.show()"
   ]
  },
  {
   "cell_type": "markdown",
   "metadata": {},
   "source": [
    "The last attribute is the percentage threshold. I decided to plot categories which percentage of the occurance is higher than the threshold. The rest is combined to \"other\" category."
   ]
  },
  {
   "cell_type": "code",
   "execution_count": 384,
   "metadata": {
    "ExecuteTime": {
     "end_time": "2021-04-26T18:13:51.139702Z",
     "start_time": "2021-04-26T18:13:51.131451Z"
    },
    "code_folding": []
   },
   "outputs": [],
   "source": [
    "class LabelCombiner(BaseEstimator, TransformerMixin):\n",
    "    def __init__(self,percentage_threshold=3):\n",
    "        self.percentage_threshold = percentage_threshold\n",
    "    def fit(self,X,y=None):\n",
    "        return self\n",
    "    def transform(self,X,y=None):\n",
    "        for i in range(X.shape[1]):\n",
    "            arr =X[:,i]\n",
    "            if arr.dtype == np.float64:\n",
    "                arr.dtype = np.int32\n",
    "            labels,count = np.unique(arr, return_counts=True)\n",
    "            count = (count/count.sum())*100\n",
    "            categories = labels[count > self.percentage_threshold]\n",
    "            X[:,i] = np.where(~np.isin(arr,categories), 'other', arr) \n",
    "        return X"
   ]
  },
  {
   "cell_type": "code",
   "execution_count": 385,
   "metadata": {
    "ExecuteTime": {
     "end_time": "2021-04-26T18:13:51.581842Z",
     "start_time": "2021-04-26T18:13:51.576583Z"
    }
   },
   "outputs": [],
   "source": [
    "class SkewnessFixer(BaseEstimator, TransformerMixin):\n",
    "    def __init__(self,threshold = 0.5,exclude= [None]):\n",
    "        self.threshold = threshold\n",
    "        self.exclude = exclude\n",
    "    def fit(self,X,y=None):\n",
    "        return self\n",
    "    def transform(self,X,y=None):\n",
    "        numeric_dtypes = ['int16', 'int32', 'int64', 'float16', 'float32', 'float64']\n",
    "        numeric = []\n",
    "        skew_features = []\n",
    "        for i in range(X.shape[1]):\n",
    "            if X[:,i].dtype in numeric_dtypes:\n",
    "                if i not in self.exclude:\n",
    "                    skewness = abs(skew(X[:,i]))\n",
    "                    if skewness > self.threshold:\n",
    "                        skew_features.append(i)\n",
    "        for i in skew_features:\n",
    "            X[:,i] = boxcox1p(X[:,i], boxcox_normmax(X[:,i] + 1))\n",
    "        return X"
   ]
  },
  {
   "cell_type": "markdown",
   "metadata": {},
   "source": [
    "Alternative for dummy encoding. Handling high cardinality data by encoding attributes in n (number of classes in multiclass predicition) attributes by target encoding. Do not know whether it will work. In case it does not we have two alternatives:\n",
    "* drop attributes with high cardinality to prevent negative impact on future models\n",
    "* encode attributes by dummy encoding and hoping that it will somehow work"
   ]
  },
  {
   "cell_type": "code",
   "execution_count": 387,
   "metadata": {
    "ExecuteTime": {
     "end_time": "2021-04-26T18:13:54.861452Z",
     "start_time": "2021-04-26T18:13:54.856842Z"
    }
   },
   "outputs": [],
   "source": [
    "encoder = wrapper.PolynomialWrapper(target_encoder.TargetEncoder())"
   ]
  },
  {
   "cell_type": "code",
   "execution_count": 388,
   "metadata": {
    "ExecuteTime": {
     "end_time": "2021-04-26T18:13:55.117890Z",
     "start_time": "2021-04-26T18:13:55.114426Z"
    }
   },
   "outputs": [],
   "source": [
    "num_pipeline = Pipeline([\n",
    "            ('imputer',SimpleImputer(strategy='most_frequent')),\n",
    "            ('skewness_fixer', SkewnessFixer()),\n",
    "            ('normalizer', Normalizer()),\n",
    "            ('std_scaler', StandardScaler())\n",
    "            ])"
   ]
  },
  {
   "cell_type": "code",
   "execution_count": 389,
   "metadata": {
    "ExecuteTime": {
     "end_time": "2021-04-26T18:13:55.382947Z",
     "start_time": "2021-04-26T18:13:55.379121Z"
    }
   },
   "outputs": [],
   "source": [
    "cat_pipeline = Pipeline([\n",
    "            ('imputer',SimpleImputer(strategy='most_frequent')),\n",
    "            ('label combiner',LabelCombiner()),\n",
    "            ('OHE', OneHotEncoder())\n",
    "])"
   ]
  },
  {
   "cell_type": "code",
   "execution_count": 424,
   "metadata": {
    "ExecuteTime": {
     "end_time": "2021-04-26T18:31:12.371765Z",
     "start_time": "2021-04-26T18:31:12.364000Z"
    }
   },
   "outputs": [],
   "source": [
    "preprocessing_pipeline =  ColumnTransformer([\n",
    "            (\"num\", num_pipeline, num_attr),\n",
    "            (\"cat\", cat_pipeline, cat_attr),\n",
    "            (\"high_cardinality_cat\",encoder, high_cardinality_cat_attr)\n",
    "            ])"
   ]
  },
  {
   "cell_type": "code",
   "execution_count": 434,
   "metadata": {
    "ExecuteTime": {
     "end_time": "2021-04-26T18:33:52.451694Z",
     "start_time": "2021-04-26T18:33:52.122482Z"
    }
   },
   "outputs": [
    {
     "name": "stderr",
     "output_type": "stream",
     "text": [
      "/home/maciej/.local/lib/python3.8/site-packages/pandas/core/frame.py:3191: SettingWithCopyWarning: \n",
      "A value is trying to be set on a copy of a slice from a DataFrame.\n",
      "Try using .loc[row_indexer,col_indexer] = value instead\n",
      "\n",
      "See the caveats in the documentation: https://pandas.pydata.org/pandas-docs/stable/user_guide/indexing.html#returning-a-view-versus-a-copy\n",
      "  self[k1] = value[k2]\n"
     ]
    }
   ],
   "source": [
    "train = df[~df['Top-up Month'].isna()]\n",
    "train[[*cat_attr]] = train[[*cat_attr]].astype(str)\n",
    "X = train.drop(columns = [\"ID\"])\n",
    "y = train[['Top-up Month']]"
   ]
  },
  {
   "cell_type": "code",
   "execution_count": 435,
   "metadata": {
    "ExecuteTime": {
     "end_time": "2021-04-26T18:34:19.438435Z",
     "start_time": "2021-04-26T18:33:53.660249Z"
    },
    "scrolled": false
   },
   "outputs": [
    {
     "name": "stderr",
     "output_type": "stream",
     "text": [
      "/home/maciej/.local/lib/python3.8/site-packages/scipy/stats/stats.py:3845: PearsonRConstantInputWarning: An input array is constant; the correlation coefficent is not defined.\n",
      "  warnings.warn(PearsonRConstantInputWarning())\n",
      "/home/maciej/.local/lib/python3.8/site-packages/category_encoders/utils.py:21: FutureWarning: is_categorical is deprecated and will be removed in a future version.  Use is_categorical_dtype instead\n",
      "  elif pd.api.types.is_categorical(cols):\n",
      "/home/maciej/.local/lib/python3.8/site-packages/category_encoders/utils.py:21: FutureWarning: is_categorical is deprecated and will be removed in a future version.  Use is_categorical_dtype instead\n",
      "  elif pd.api.types.is_categorical(cols):\n",
      "/home/maciej/.local/lib/python3.8/site-packages/category_encoders/utils.py:21: FutureWarning: is_categorical is deprecated and will be removed in a future version.  Use is_categorical_dtype instead\n",
      "  elif pd.api.types.is_categorical(cols):\n",
      "/home/maciej/.local/lib/python3.8/site-packages/category_encoders/utils.py:21: FutureWarning: is_categorical is deprecated and will be removed in a future version.  Use is_categorical_dtype instead\n",
      "  elif pd.api.types.is_categorical(cols):\n",
      "/home/maciej/.local/lib/python3.8/site-packages/category_encoders/utils.py:21: FutureWarning: is_categorical is deprecated and will be removed in a future version.  Use is_categorical_dtype instead\n",
      "  elif pd.api.types.is_categorical(cols):\n",
      "/home/maciej/.local/lib/python3.8/site-packages/category_encoders/utils.py:21: FutureWarning: is_categorical is deprecated and will be removed in a future version.  Use is_categorical_dtype instead\n",
      "  elif pd.api.types.is_categorical(cols):\n"
     ]
    }
   ],
   "source": [
    "train = preprocessing_pipeline.fit_transform(X,y)"
   ]
  },
  {
   "cell_type": "code",
   "execution_count": 438,
   "metadata": {
    "ExecuteTime": {
     "end_time": "2021-04-26T18:34:47.113918Z",
     "start_time": "2021-04-26T18:34:47.024444Z"
    },
    "scrolled": false
   },
   "outputs": [
    {
     "data": {
      "text/html": [
       "<div>\n",
       "<style scoped>\n",
       "    .dataframe tbody tr th:only-of-type {\n",
       "        vertical-align: middle;\n",
       "    }\n",
       "\n",
       "    .dataframe tbody tr th {\n",
       "        vertical-align: top;\n",
       "    }\n",
       "\n",
       "    .dataframe thead th {\n",
       "        text-align: right;\n",
       "    }\n",
       "</style>\n",
       "<table border=\"1\" class=\"dataframe\">\n",
       "  <thead>\n",
       "    <tr style=\"text-align: right;\">\n",
       "      <th></th>\n",
       "      <th>0</th>\n",
       "      <th>1</th>\n",
       "      <th>2</th>\n",
       "      <th>3</th>\n",
       "      <th>4</th>\n",
       "      <th>5</th>\n",
       "      <th>6</th>\n",
       "      <th>7</th>\n",
       "      <th>8</th>\n",
       "      <th>9</th>\n",
       "      <th>...</th>\n",
       "      <th>85</th>\n",
       "      <th>86</th>\n",
       "      <th>87</th>\n",
       "      <th>88</th>\n",
       "      <th>89</th>\n",
       "      <th>90</th>\n",
       "      <th>91</th>\n",
       "      <th>92</th>\n",
       "      <th>93</th>\n",
       "      <th>94</th>\n",
       "    </tr>\n",
       "  </thead>\n",
       "  <tbody>\n",
       "    <tr>\n",
       "      <th>0</th>\n",
       "      <td>0.322151</td>\n",
       "      <td>-0.076203</td>\n",
       "      <td>0.648289</td>\n",
       "      <td>0.677371</td>\n",
       "      <td>1.103682</td>\n",
       "      <td>0.325491</td>\n",
       "      <td>-0.688095</td>\n",
       "      <td>0.058030</td>\n",
       "      <td>0.0</td>\n",
       "      <td>0.0</td>\n",
       "      <td>...</td>\n",
       "      <td>0.005321</td>\n",
       "      <td>0.007143</td>\n",
       "      <td>1.716296e-02</td>\n",
       "      <td>0.033673</td>\n",
       "      <td>0.017592</td>\n",
       "      <td>0.010204</td>\n",
       "      <td>0.022398</td>\n",
       "      <td>0.018367</td>\n",
       "      <td>1.664807e-02</td>\n",
       "      <td>0.031633</td>\n",
       "    </tr>\n",
       "    <tr>\n",
       "      <th>1</th>\n",
       "      <td>-1.580978</td>\n",
       "      <td>-0.075079</td>\n",
       "      <td>-0.163593</td>\n",
       "      <td>-0.948379</td>\n",
       "      <td>0.577872</td>\n",
       "      <td>-0.274687</td>\n",
       "      <td>-1.541219</td>\n",
       "      <td>0.058748</td>\n",
       "      <td>0.0</td>\n",
       "      <td>0.0</td>\n",
       "      <td>...</td>\n",
       "      <td>0.005906</td>\n",
       "      <td>0.006276</td>\n",
       "      <td>3.395669e-02</td>\n",
       "      <td>0.037657</td>\n",
       "      <td>0.012795</td>\n",
       "      <td>0.016736</td>\n",
       "      <td>0.015748</td>\n",
       "      <td>0.015690</td>\n",
       "      <td>2.854331e-02</td>\n",
       "      <td>0.032427</td>\n",
       "    </tr>\n",
       "    <tr>\n",
       "      <th>2</th>\n",
       "      <td>-0.904085</td>\n",
       "      <td>-0.075553</td>\n",
       "      <td>-0.971701</td>\n",
       "      <td>-0.813586</td>\n",
       "      <td>-0.978423</td>\n",
       "      <td>-0.993382</td>\n",
       "      <td>-1.097503</td>\n",
       "      <td>0.058445</td>\n",
       "      <td>0.0</td>\n",
       "      <td>0.0</td>\n",
       "      <td>...</td>\n",
       "      <td>0.005321</td>\n",
       "      <td>0.013072</td>\n",
       "      <td>1.716296e-02</td>\n",
       "      <td>0.052288</td>\n",
       "      <td>0.017592</td>\n",
       "      <td>0.032680</td>\n",
       "      <td>0.022398</td>\n",
       "      <td>0.019608</td>\n",
       "      <td>1.664807e-02</td>\n",
       "      <td>0.065359</td>\n",
       "    </tr>\n",
       "    <tr>\n",
       "      <th>3</th>\n",
       "      <td>-0.749746</td>\n",
       "      <td>-0.075046</td>\n",
       "      <td>-0.517529</td>\n",
       "      <td>-1.030982</td>\n",
       "      <td>0.632308</td>\n",
       "      <td>-0.549777</td>\n",
       "      <td>-1.583274</td>\n",
       "      <td>0.058769</td>\n",
       "      <td>0.0</td>\n",
       "      <td>0.0</td>\n",
       "      <td>...</td>\n",
       "      <td>0.003082</td>\n",
       "      <td>0.004124</td>\n",
       "      <td>9.244992e-03</td>\n",
       "      <td>0.012371</td>\n",
       "      <td>0.007704</td>\n",
       "      <td>0.008247</td>\n",
       "      <td>0.010786</td>\n",
       "      <td>0.014433</td>\n",
       "      <td>2.157165e-02</td>\n",
       "      <td>0.024742</td>\n",
       "    </tr>\n",
       "    <tr>\n",
       "      <th>4</th>\n",
       "      <td>-0.810883</td>\n",
       "      <td>-0.075089</td>\n",
       "      <td>-0.791816</td>\n",
       "      <td>-0.058525</td>\n",
       "      <td>-0.333859</td>\n",
       "      <td>-0.724834</td>\n",
       "      <td>-1.528057</td>\n",
       "      <td>0.058741</td>\n",
       "      <td>0.0</td>\n",
       "      <td>0.0</td>\n",
       "      <td>...</td>\n",
       "      <td>0.007766</td>\n",
       "      <td>0.004373</td>\n",
       "      <td>1.433692e-02</td>\n",
       "      <td>0.018950</td>\n",
       "      <td>0.019116</td>\n",
       "      <td>0.007289</td>\n",
       "      <td>0.019116</td>\n",
       "      <td>0.005831</td>\n",
       "      <td>1.971326e-02</td>\n",
       "      <td>0.020408</td>\n",
       "    </tr>\n",
       "    <tr>\n",
       "      <th>...</th>\n",
       "      <td>...</td>\n",
       "      <td>...</td>\n",
       "      <td>...</td>\n",
       "      <td>...</td>\n",
       "      <td>...</td>\n",
       "      <td>...</td>\n",
       "      <td>...</td>\n",
       "      <td>...</td>\n",
       "      <td>...</td>\n",
       "      <td>...</td>\n",
       "      <td>...</td>\n",
       "      <td>...</td>\n",
       "      <td>...</td>\n",
       "      <td>...</td>\n",
       "      <td>...</td>\n",
       "      <td>...</td>\n",
       "      <td>...</td>\n",
       "      <td>...</td>\n",
       "      <td>...</td>\n",
       "      <td>...</td>\n",
       "      <td>...</td>\n",
       "    </tr>\n",
       "    <tr>\n",
       "      <th>128650</th>\n",
       "      <td>0.806134</td>\n",
       "      <td>-0.082342</td>\n",
       "      <td>0.224199</td>\n",
       "      <td>-0.537732</td>\n",
       "      <td>-0.576258</td>\n",
       "      <td>0.424502</td>\n",
       "      <td>1.336639</td>\n",
       "      <td>0.054107</td>\n",
       "      <td>0.0</td>\n",
       "      <td>0.0</td>\n",
       "      <td>...</td>\n",
       "      <td>0.052632</td>\n",
       "      <td>0.009174</td>\n",
       "      <td>4.327916e-10</td>\n",
       "      <td>0.013761</td>\n",
       "      <td>0.105263</td>\n",
       "      <td>0.041284</td>\n",
       "      <td>0.052632</td>\n",
       "      <td>0.032110</td>\n",
       "      <td>3.624748e-10</td>\n",
       "      <td>0.045872</td>\n",
       "    </tr>\n",
       "    <tr>\n",
       "      <th>128651</th>\n",
       "      <td>0.850786</td>\n",
       "      <td>-0.082226</td>\n",
       "      <td>0.103888</td>\n",
       "      <td>-0.587237</td>\n",
       "      <td>0.989296</td>\n",
       "      <td>0.318989</td>\n",
       "      <td>1.308939</td>\n",
       "      <td>0.054181</td>\n",
       "      <td>0.0</td>\n",
       "      <td>0.0</td>\n",
       "      <td>...</td>\n",
       "      <td>0.052632</td>\n",
       "      <td>0.009174</td>\n",
       "      <td>4.327916e-10</td>\n",
       "      <td>0.013761</td>\n",
       "      <td>0.105263</td>\n",
       "      <td>0.041284</td>\n",
       "      <td>0.052632</td>\n",
       "      <td>0.032110</td>\n",
       "      <td>3.624748e-10</td>\n",
       "      <td>0.045872</td>\n",
       "    </tr>\n",
       "    <tr>\n",
       "      <th>128652</th>\n",
       "      <td>1.333287</td>\n",
       "      <td>-0.075429</td>\n",
       "      <td>-0.192926</td>\n",
       "      <td>-0.167887</td>\n",
       "      <td>-0.033359</td>\n",
       "      <td>0.085837</td>\n",
       "      <td>-1.195923</td>\n",
       "      <td>0.058524</td>\n",
       "      <td>0.0</td>\n",
       "      <td>0.0</td>\n",
       "      <td>...</td>\n",
       "      <td>0.052632</td>\n",
       "      <td>0.009174</td>\n",
       "      <td>4.327916e-10</td>\n",
       "      <td>0.013761</td>\n",
       "      <td>0.105263</td>\n",
       "      <td>0.041284</td>\n",
       "      <td>0.052632</td>\n",
       "      <td>0.032110</td>\n",
       "      <td>3.624748e-10</td>\n",
       "      <td>0.045872</td>\n",
       "    </tr>\n",
       "    <tr>\n",
       "      <th>128653</th>\n",
       "      <td>1.184651</td>\n",
       "      <td>-0.082875</td>\n",
       "      <td>0.741266</td>\n",
       "      <td>0.232797</td>\n",
       "      <td>0.594400</td>\n",
       "      <td>0.593649</td>\n",
       "      <td>1.459826</td>\n",
       "      <td>0.053766</td>\n",
       "      <td>0.0</td>\n",
       "      <td>0.0</td>\n",
       "      <td>...</td>\n",
       "      <td>0.052632</td>\n",
       "      <td>0.009174</td>\n",
       "      <td>4.327916e-10</td>\n",
       "      <td>0.013761</td>\n",
       "      <td>0.105263</td>\n",
       "      <td>0.041284</td>\n",
       "      <td>0.052632</td>\n",
       "      <td>0.032110</td>\n",
       "      <td>3.624748e-10</td>\n",
       "      <td>0.045872</td>\n",
       "    </tr>\n",
       "    <tr>\n",
       "      <th>128654</th>\n",
       "      <td>2.851185</td>\n",
       "      <td>-0.084026</td>\n",
       "      <td>1.299353</td>\n",
       "      <td>0.481619</td>\n",
       "      <td>2.240673</td>\n",
       "      <td>1.367425</td>\n",
       "      <td>1.712893</td>\n",
       "      <td>0.053031</td>\n",
       "      <td>0.0</td>\n",
       "      <td>0.0</td>\n",
       "      <td>...</td>\n",
       "      <td>0.052632</td>\n",
       "      <td>0.009174</td>\n",
       "      <td>4.327916e-10</td>\n",
       "      <td>0.013761</td>\n",
       "      <td>0.105263</td>\n",
       "      <td>0.041284</td>\n",
       "      <td>0.052632</td>\n",
       "      <td>0.032110</td>\n",
       "      <td>3.624748e-10</td>\n",
       "      <td>0.045872</td>\n",
       "    </tr>\n",
       "  </tbody>\n",
       "</table>\n",
       "<p>128655 rows × 95 columns</p>\n",
       "</div>"
      ],
      "text/plain": [
       "              0         1         2         3         4         5         6   \\\n",
       "0       0.322151 -0.076203  0.648289  0.677371  1.103682  0.325491 -0.688095   \n",
       "1      -1.580978 -0.075079 -0.163593 -0.948379  0.577872 -0.274687 -1.541219   \n",
       "2      -0.904085 -0.075553 -0.971701 -0.813586 -0.978423 -0.993382 -1.097503   \n",
       "3      -0.749746 -0.075046 -0.517529 -1.030982  0.632308 -0.549777 -1.583274   \n",
       "4      -0.810883 -0.075089 -0.791816 -0.058525 -0.333859 -0.724834 -1.528057   \n",
       "...          ...       ...       ...       ...       ...       ...       ...   \n",
       "128650  0.806134 -0.082342  0.224199 -0.537732 -0.576258  0.424502  1.336639   \n",
       "128651  0.850786 -0.082226  0.103888 -0.587237  0.989296  0.318989  1.308939   \n",
       "128652  1.333287 -0.075429 -0.192926 -0.167887 -0.033359  0.085837 -1.195923   \n",
       "128653  1.184651 -0.082875  0.741266  0.232797  0.594400  0.593649  1.459826   \n",
       "128654  2.851185 -0.084026  1.299353  0.481619  2.240673  1.367425  1.712893   \n",
       "\n",
       "              7    8    9   ...        85        86            87        88  \\\n",
       "0       0.058030  0.0  0.0  ...  0.005321  0.007143  1.716296e-02  0.033673   \n",
       "1       0.058748  0.0  0.0  ...  0.005906  0.006276  3.395669e-02  0.037657   \n",
       "2       0.058445  0.0  0.0  ...  0.005321  0.013072  1.716296e-02  0.052288   \n",
       "3       0.058769  0.0  0.0  ...  0.003082  0.004124  9.244992e-03  0.012371   \n",
       "4       0.058741  0.0  0.0  ...  0.007766  0.004373  1.433692e-02  0.018950   \n",
       "...          ...  ...  ...  ...       ...       ...           ...       ...   \n",
       "128650  0.054107  0.0  0.0  ...  0.052632  0.009174  4.327916e-10  0.013761   \n",
       "128651  0.054181  0.0  0.0  ...  0.052632  0.009174  4.327916e-10  0.013761   \n",
       "128652  0.058524  0.0  0.0  ...  0.052632  0.009174  4.327916e-10  0.013761   \n",
       "128653  0.053766  0.0  0.0  ...  0.052632  0.009174  4.327916e-10  0.013761   \n",
       "128654  0.053031  0.0  0.0  ...  0.052632  0.009174  4.327916e-10  0.013761   \n",
       "\n",
       "              89        90        91        92            93        94  \n",
       "0       0.017592  0.010204  0.022398  0.018367  1.664807e-02  0.031633  \n",
       "1       0.012795  0.016736  0.015748  0.015690  2.854331e-02  0.032427  \n",
       "2       0.017592  0.032680  0.022398  0.019608  1.664807e-02  0.065359  \n",
       "3       0.007704  0.008247  0.010786  0.014433  2.157165e-02  0.024742  \n",
       "4       0.019116  0.007289  0.019116  0.005831  1.971326e-02  0.020408  \n",
       "...          ...       ...       ...       ...           ...       ...  \n",
       "128650  0.105263  0.041284  0.052632  0.032110  3.624748e-10  0.045872  \n",
       "128651  0.105263  0.041284  0.052632  0.032110  3.624748e-10  0.045872  \n",
       "128652  0.105263  0.041284  0.052632  0.032110  3.624748e-10  0.045872  \n",
       "128653  0.105263  0.041284  0.052632  0.032110  3.624748e-10  0.045872  \n",
       "128654  0.105263  0.041284  0.052632  0.032110  3.624748e-10  0.045872  \n",
       "\n",
       "[128655 rows x 95 columns]"
      ]
     },
     "execution_count": 438,
     "metadata": {},
     "output_type": "execute_result"
    }
   ],
   "source": [
    "pd.DataFrame(train)"
   ]
  },
  {
   "cell_type": "code",
   "execution_count": null,
   "metadata": {},
   "outputs": [],
   "source": []
  }
 ],
 "metadata": {
  "kernelspec": {
   "display_name": "Python 3",
   "language": "python",
   "name": "python3"
  },
  "language_info": {
   "codemirror_mode": {
    "name": "ipython",
    "version": 3
   },
   "file_extension": ".py",
   "mimetype": "text/x-python",
   "name": "python",
   "nbconvert_exporter": "python",
   "pygments_lexer": "ipython3",
   "version": "3.8.5"
  },
  "toc": {
   "base_numbering": 1,
   "nav_menu": {},
   "number_sections": true,
   "sideBar": true,
   "skip_h1_title": false,
   "title_cell": "Table of Contents",
   "title_sidebar": "Contents",
   "toc_cell": false,
   "toc_position": {},
   "toc_section_display": true,
   "toc_window_display": false
  }
 },
 "nbformat": 4,
 "nbformat_minor": 4
}
